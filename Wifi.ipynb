{
 "cells": [
  {
   "cell_type": "markdown",
   "metadata": {},
   "source": [
    "# Wifi"
   ]
  },
  {
   "cell_type": "code",
   "execution_count": 127,
   "metadata": {},
   "outputs": [],
   "source": [
    "import numpy as np\n",
    "import pandas as pd"
   ]
  },
  {
   "cell_type": "markdown",
   "metadata": {},
   "source": [
    "## Importation des données"
   ]
  },
  {
   "cell_type": "raw",
   "metadata": {},
   "source": [
    "dtype = {'Code Site', 'Date heure début', 'Date heure fin',\n",
    "       'Temps de session en secondes', 'Temps de sessions en minutes',\n",
    "       'Nom du site', 'Code postal', 'Type d'appareil',\n",
    "       'Constructeur appareil', 'Version système exploitation',\n",
    "       'Version navigateur', 'Donnée entrante (Octet)',\n",
    "       'Donnée entrante (MégaOctet)', 'Donnée sortante (Octet)',\n",
    "       'Donnée sortante (MégaOctet)', 'Paquets entrants', 'Paquets sortants',\n",
    "       'Langue utilisateur', 'geo_shape', 'geo_point_2d', 'Etat du site',\n",
    "       'Nom du site.1', 'Adresse', 'Nombre de bornes', 'Code postal.1'}"
   ]
  },
  {
   "cell_type": "code",
   "execution_count": 128,
   "metadata": {},
   "outputs": [],
   "source": [
    "dtype = {'Code Site': 'category', 'Nom du site': str, 'Code postal': 'category', \"Type d'appareil\":'category', 'Nombre de borne': int, 'Adresse': str}"
   ]
  },
  {
   "cell_type": "code",
   "execution_count": 131,
   "metadata": {},
   "outputs": [
    {
     "name": "stderr",
     "output_type": "stream",
     "text": [
      "/usr/lib/python3/dist-packages/IPython/core/interactiveshell.py:2718: DtypeWarning: Columns (24) have mixed types. Specify dtype option on import or set low_memory=False.\n",
      "  interactivity=interactivity, compiler=compiler, result=result)\n"
     ]
    }
   ],
   "source": [
    "df = pd.read_csv(\"./data/paris-wi-fi-utilisation-des-hotspots-paris-wi-fi.csv\", sep=\";\", dtype=dtype)"
   ]
  },
  {
   "cell_type": "raw",
   "metadata": {},
   "source": [
    "# To limit the size\n",
    "df = df.sample(3000)"
   ]
  },
  {
   "cell_type": "markdown",
   "metadata": {},
   "source": [
    "**Remove duplicate columns**"
   ]
  },
  {
   "cell_type": "raw",
   "metadata": {},
   "source": [
    "len(df['Code postal'] == df['Code postal.1'])"
   ]
  },
  {
   "cell_type": "code",
   "execution_count": 132,
   "metadata": {},
   "outputs": [],
   "source": [
    "del df['Date heure fin']\n",
    "del df['Donnée entrante (Octet)']\n",
    "del df['Donnée sortante (Octet)']\n",
    "del df['Code postal.1']\n",
    "del df['Nom du site.1']\n",
    "del df['Temps de session en secondes']"
   ]
  },
  {
   "cell_type": "markdown",
   "metadata": {},
   "source": [
    "**Remove useless columns**"
   ]
  },
  {
   "cell_type": "raw",
   "metadata": {},
   "source": [
    "del "
   ]
  },
  {
   "cell_type": "markdown",
   "metadata": {},
   "source": [
    "**Convert time columns**"
   ]
  },
  {
   "cell_type": "code",
   "execution_count": 133,
   "metadata": {},
   "outputs": [],
   "source": [
    "df['Date heure début'] = pd.to_datetime(df['Date heure début'])"
   ]
  },
  {
   "cell_type": "markdown",
   "metadata": {},
   "source": [
    "## Observation des données"
   ]
  },
  {
   "cell_type": "code",
   "execution_count": 134,
   "metadata": {},
   "outputs": [
    {
     "data": {
      "text/plain": [
       "1627738"
      ]
     },
     "execution_count": 134,
     "metadata": {},
     "output_type": "execute_result"
    }
   ],
   "source": [
    "len(df)"
   ]
  },
  {
   "cell_type": "code",
   "execution_count": 135,
   "metadata": {
    "scrolled": true
   },
   "outputs": [
    {
     "data": {
      "text/plain": [
       "Index(['Code Site', 'Date heure début', 'Temps de sessions en minutes',\n",
       "       'Nom du site', 'Code postal', 'Type d'appareil',\n",
       "       'Constructeur appareil', 'Version système exploitation',\n",
       "       'Version navigateur', 'Donnée entrante (MégaOctet)',\n",
       "       'Donnée sortante (MégaOctet)', 'Paquets entrants', 'Paquets sortants',\n",
       "       'Langue utilisateur', 'geo_shape', 'geo_point_2d', 'Etat du site',\n",
       "       'Adresse', 'Nombre de bornes'],\n",
       "      dtype='object')"
      ]
     },
     "execution_count": 135,
     "metadata": {},
     "output_type": "execute_result"
    }
   ],
   "source": [
    "df.columns"
   ]
  },
  {
   "cell_type": "code",
   "execution_count": 136,
   "metadata": {
    "scrolled": true
   },
   "outputs": [
    {
     "data": {
      "text/html": [
       "<div>\n",
       "<style scoped>\n",
       "    .dataframe tbody tr th:only-of-type {\n",
       "        vertical-align: middle;\n",
       "    }\n",
       "\n",
       "    .dataframe tbody tr th {\n",
       "        vertical-align: top;\n",
       "    }\n",
       "\n",
       "    .dataframe thead th {\n",
       "        text-align: right;\n",
       "    }\n",
       "</style>\n",
       "<table border=\"1\" class=\"dataframe\">\n",
       "  <thead>\n",
       "    <tr style=\"text-align: right;\">\n",
       "      <th></th>\n",
       "      <th>Code Site</th>\n",
       "      <th>Date heure début</th>\n",
       "      <th>Temps de sessions en minutes</th>\n",
       "      <th>Nom du site</th>\n",
       "      <th>Code postal</th>\n",
       "      <th>Type d'appareil</th>\n",
       "      <th>Constructeur appareil</th>\n",
       "      <th>Version système exploitation</th>\n",
       "      <th>Version navigateur</th>\n",
       "      <th>Donnée entrante (MégaOctet)</th>\n",
       "      <th>Donnée sortante (MégaOctet)</th>\n",
       "      <th>Paquets entrants</th>\n",
       "      <th>Paquets sortants</th>\n",
       "      <th>Langue utilisateur</th>\n",
       "      <th>geo_shape</th>\n",
       "      <th>geo_point_2d</th>\n",
       "      <th>Etat du site</th>\n",
       "      <th>Adresse</th>\n",
       "      <th>Nombre de bornes</th>\n",
       "    </tr>\n",
       "  </thead>\n",
       "  <tbody>\n",
       "    <tr>\n",
       "      <th>1297417</th>\n",
       "      <td>PW0190</td>\n",
       "      <td>2019-09-20 11:44:00</td>\n",
       "      <td>7.4</td>\n",
       "      <td>PORT SOLFERINO-BERGES RG</td>\n",
       "      <td>75007</td>\n",
       "      <td>Mobile</td>\n",
       "      <td>Samsung</td>\n",
       "      <td>inconnu</td>\n",
       "      <td>Chrome 77.0</td>\n",
       "      <td>1.8</td>\n",
       "      <td>1.9</td>\n",
       "      <td>3151</td>\n",
       "      <td>3068</td>\n",
       "      <td>Espagnol</td>\n",
       "      <td>{\"type\": \"Point\", \"coordinates\": [2.325065434,...</td>\n",
       "      <td>48.8611484589,2.32506543396</td>\n",
       "      <td>Fermé pour travaux</td>\n",
       "      <td>PORT DE SOLFERINO</td>\n",
       "      <td>3.0</td>\n",
       "    </tr>\n",
       "    <tr>\n",
       "      <th>773982</th>\n",
       "      <td>PW0049</td>\n",
       "      <td>2021-09-03 09:51:05</td>\n",
       "      <td>22.6</td>\n",
       "      <td>MED VIOLETTE LEDUC</td>\n",
       "      <td>75011</td>\n",
       "      <td>Mobile</td>\n",
       "      <td>autre</td>\n",
       "      <td>inconnu</td>\n",
       "      <td>Chrome 92.0</td>\n",
       "      <td>7.3</td>\n",
       "      <td>1.0</td>\n",
       "      <td>6103</td>\n",
       "      <td>6295</td>\n",
       "      <td>Français</td>\n",
       "      <td>{\"type\": \"Point\", \"coordinates\": [2.383960071,...</td>\n",
       "      <td>48.8515955528,2.38396007097</td>\n",
       "      <td>Opérationnel</td>\n",
       "      <td>18 RUE FAIDHERBE</td>\n",
       "      <td>4.0</td>\n",
       "    </tr>\n",
       "    <tr>\n",
       "      <th>913414</th>\n",
       "      <td>PW0187</td>\n",
       "      <td>2020-12-04 11:56:37</td>\n",
       "      <td>58.5</td>\n",
       "      <td>MVAC 20</td>\n",
       "      <td>75020</td>\n",
       "      <td>Mobile</td>\n",
       "      <td>autre</td>\n",
       "      <td>inconnu</td>\n",
       "      <td>Chrome 86.0</td>\n",
       "      <td>77.8</td>\n",
       "      <td>9.4</td>\n",
       "      <td>65147</td>\n",
       "      <td>69179</td>\n",
       "      <td>Français</td>\n",
       "      <td>{\"type\": \"Point\", \"coordinates\": [2.3987890642...</td>\n",
       "      <td>48.8627043264,2.39878906422</td>\n",
       "      <td>Opérationnel</td>\n",
       "      <td>18 RUE RAMUS</td>\n",
       "      <td>2.0</td>\n",
       "    </tr>\n",
       "    <tr>\n",
       "      <th>498927</th>\n",
       "      <td>PW0101</td>\n",
       "      <td>2019-10-21 15:11:09</td>\n",
       "      <td>16.6</td>\n",
       "      <td>CS HENRY DE MONTHERLAND</td>\n",
       "      <td>75016</td>\n",
       "      <td>Mobile</td>\n",
       "      <td>autre</td>\n",
       "      <td>Android 7.1.2</td>\n",
       "      <td>Chrome 77.0</td>\n",
       "      <td>7.4</td>\n",
       "      <td>1.1</td>\n",
       "      <td>5849</td>\n",
       "      <td>6412</td>\n",
       "      <td>Français</td>\n",
       "      <td>{\"type\": \"Point\", \"coordinates\": [2.2721208538...</td>\n",
       "      <td>48.8675228068,2.27212085381</td>\n",
       "      <td>Opérationnel</td>\n",
       "      <td>30-32 BOULEVARD LANNES</td>\n",
       "      <td>1.0</td>\n",
       "    </tr>\n",
       "    <tr>\n",
       "      <th>22253</th>\n",
       "      <td>PW0099</td>\n",
       "      <td>2020-08-07 18:43:00</td>\n",
       "      <td>1.0</td>\n",
       "      <td>GYM REUILLY</td>\n",
       "      <td>75012</td>\n",
       "      <td>Mobile</td>\n",
       "      <td>Apple</td>\n",
       "      <td>iOS 13.5.1</td>\n",
       "      <td>Safari unknown</td>\n",
       "      <td>2.5</td>\n",
       "      <td>0.4</td>\n",
       "      <td>1871</td>\n",
       "      <td>2604</td>\n",
       "      <td>Français</td>\n",
       "      <td>{\"type\": \"Point\", \"coordinates\": [2.3891714419...</td>\n",
       "      <td>48.8417054788,2.38917144192</td>\n",
       "      <td>Opérationnel</td>\n",
       "      <td>11 RUE ANTOINE JULIEN HENARD</td>\n",
       "      <td>1.0</td>\n",
       "    </tr>\n",
       "    <tr>\n",
       "      <th>1542358</th>\n",
       "      <td>PW0175</td>\n",
       "      <td>2021-06-22 10:40:22</td>\n",
       "      <td>13.2</td>\n",
       "      <td>JARD DU TROCADERO</td>\n",
       "      <td>75016</td>\n",
       "      <td>Mobile</td>\n",
       "      <td>Apple</td>\n",
       "      <td>iOS 14.4.2</td>\n",
       "      <td>Safari unknown</td>\n",
       "      <td>13.2</td>\n",
       "      <td>1.7</td>\n",
       "      <td>13605</td>\n",
       "      <td>12466</td>\n",
       "      <td>Portugais</td>\n",
       "      <td>{\"type\": \"Point\", \"coordinates\": [2.2893499444...</td>\n",
       "      <td>48.8609372147,2.28934994437</td>\n",
       "      <td>Opérationnel</td>\n",
       "      <td>1 PLACE DU ONZE NOVEMBRE 1918</td>\n",
       "      <td>1.0</td>\n",
       "    </tr>\n",
       "    <tr>\n",
       "      <th>79755</th>\n",
       "      <td>PW0009</td>\n",
       "      <td>2021-08-05 11:08:57</td>\n",
       "      <td>58.5</td>\n",
       "      <td>BIB VACLAV HAVEL</td>\n",
       "      <td>75018</td>\n",
       "      <td>Mobile</td>\n",
       "      <td>Apple</td>\n",
       "      <td>iOS 14.6</td>\n",
       "      <td>Safari unknown</td>\n",
       "      <td>164.8</td>\n",
       "      <td>11.0</td>\n",
       "      <td>123223</td>\n",
       "      <td>124601</td>\n",
       "      <td>Allemand</td>\n",
       "      <td>{\"type\": \"Point\", \"coordinates\": [2.3632099736...</td>\n",
       "      <td>48.8901061541,2.36320997363</td>\n",
       "      <td>Opérationnel</td>\n",
       "      <td>26B RUE PAJOL</td>\n",
       "      <td>4.0</td>\n",
       "    </tr>\n",
       "    <tr>\n",
       "      <th>1268782</th>\n",
       "      <td>PW0194</td>\n",
       "      <td>2020-10-05 21:19:00</td>\n",
       "      <td>120.8</td>\n",
       "      <td>JARD BERGES DU CANAL ST MARTIN</td>\n",
       "      <td>75010</td>\n",
       "      <td>Mobile</td>\n",
       "      <td>Samsung</td>\n",
       "      <td>Android 8.0.0</td>\n",
       "      <td>Chrome 85.0</td>\n",
       "      <td>283.5</td>\n",
       "      <td>14.4</td>\n",
       "      <td>192773</td>\n",
       "      <td>171430</td>\n",
       "      <td>Français</td>\n",
       "      <td>{\"type\": \"Point\", \"coordinates\": [2.3672066687...</td>\n",
       "      <td>48.8801112154,2.36720666871</td>\n",
       "      <td>Opérationnel</td>\n",
       "      <td>150 QUAI DE VALMY</td>\n",
       "      <td>1.0</td>\n",
       "    </tr>\n",
       "    <tr>\n",
       "      <th>967010</th>\n",
       "      <td>PW0211</td>\n",
       "      <td>2019-11-04 12:10:51</td>\n",
       "      <td>10.2</td>\n",
       "      <td>MUSEE ART MODERNE</td>\n",
       "      <td>75016</td>\n",
       "      <td>Mobile</td>\n",
       "      <td>Apple</td>\n",
       "      <td>iOS 13.2</td>\n",
       "      <td>Safari unknown</td>\n",
       "      <td>3.0</td>\n",
       "      <td>0.4</td>\n",
       "      <td>1884</td>\n",
       "      <td>3648</td>\n",
       "      <td>Polonais</td>\n",
       "      <td>{\"type\": \"Point\", \"coordinates\": [2.2969973367...</td>\n",
       "      <td>48.8647101823,2.29699733667</td>\n",
       "      <td>Opérationnel</td>\n",
       "      <td>11 AVENUE DU PRESIDENT WILSON</td>\n",
       "      <td>11.0</td>\n",
       "    </tr>\n",
       "    <tr>\n",
       "      <th>805075</th>\n",
       "      <td>PW0082</td>\n",
       "      <td>2021-03-09 10:10:49</td>\n",
       "      <td>83.3</td>\n",
       "      <td>CS JEAN DAME</td>\n",
       "      <td>75002</td>\n",
       "      <td>Mobile</td>\n",
       "      <td>Samsung</td>\n",
       "      <td>inconnu</td>\n",
       "      <td>Chrome 88.0</td>\n",
       "      <td>29.7</td>\n",
       "      <td>20.0</td>\n",
       "      <td>36052</td>\n",
       "      <td>38377</td>\n",
       "      <td>Français</td>\n",
       "      <td>{\"type\": \"Point\", \"coordinates\": [2.3455065053...</td>\n",
       "      <td>48.8665683485,2.34550650532</td>\n",
       "      <td>Opérationnel</td>\n",
       "      <td>17 RUE LEOPOLD BELLAN</td>\n",
       "      <td>1.0</td>\n",
       "    </tr>\n",
       "  </tbody>\n",
       "</table>\n",
       "</div>"
      ],
      "text/plain": [
       "        Code Site    Date heure début  Temps de sessions en minutes  \\\n",
       "1297417    PW0190 2019-09-20 11:44:00                           7.4   \n",
       "773982     PW0049 2021-09-03 09:51:05                          22.6   \n",
       "913414     PW0187 2020-12-04 11:56:37                          58.5   \n",
       "498927     PW0101 2019-10-21 15:11:09                          16.6   \n",
       "22253      PW0099 2020-08-07 18:43:00                           1.0   \n",
       "1542358    PW0175 2021-06-22 10:40:22                          13.2   \n",
       "79755      PW0009 2021-08-05 11:08:57                          58.5   \n",
       "1268782    PW0194 2020-10-05 21:19:00                         120.8   \n",
       "967010     PW0211 2019-11-04 12:10:51                          10.2   \n",
       "805075     PW0082 2021-03-09 10:10:49                          83.3   \n",
       "\n",
       "                            Nom du site Code postal Type d'appareil  \\\n",
       "1297417        PORT SOLFERINO-BERGES RG       75007          Mobile   \n",
       "773982               MED VIOLETTE LEDUC       75011          Mobile   \n",
       "913414                          MVAC 20       75020          Mobile   \n",
       "498927          CS HENRY DE MONTHERLAND       75016          Mobile   \n",
       "22253                       GYM REUILLY       75012          Mobile   \n",
       "1542358               JARD DU TROCADERO       75016          Mobile   \n",
       "79755                  BIB VACLAV HAVEL       75018          Mobile   \n",
       "1268782  JARD BERGES DU CANAL ST MARTIN       75010          Mobile   \n",
       "967010                MUSEE ART MODERNE       75016          Mobile   \n",
       "805075                     CS JEAN DAME       75002          Mobile   \n",
       "\n",
       "        Constructeur appareil Version système exploitation Version navigateur  \\\n",
       "1297417               Samsung                      inconnu        Chrome 77.0   \n",
       "773982                  autre                      inconnu        Chrome 92.0   \n",
       "913414                  autre                      inconnu        Chrome 86.0   \n",
       "498927                  autre                Android 7.1.2        Chrome 77.0   \n",
       "22253                   Apple                   iOS 13.5.1     Safari unknown   \n",
       "1542358                 Apple                   iOS 14.4.2     Safari unknown   \n",
       "79755                   Apple                     iOS 14.6     Safari unknown   \n",
       "1268782               Samsung                Android 8.0.0        Chrome 85.0   \n",
       "967010                  Apple                     iOS 13.2     Safari unknown   \n",
       "805075                Samsung                      inconnu        Chrome 88.0   \n",
       "\n",
       "         Donnée entrante (MégaOctet)  Donnée sortante (MégaOctet)  \\\n",
       "1297417                          1.8                          1.9   \n",
       "773982                           7.3                          1.0   \n",
       "913414                          77.8                          9.4   \n",
       "498927                           7.4                          1.1   \n",
       "22253                            2.5                          0.4   \n",
       "1542358                         13.2                          1.7   \n",
       "79755                          164.8                         11.0   \n",
       "1268782                        283.5                         14.4   \n",
       "967010                           3.0                          0.4   \n",
       "805075                          29.7                         20.0   \n",
       "\n",
       "         Paquets entrants  Paquets sortants Langue utilisateur  \\\n",
       "1297417              3151              3068           Espagnol   \n",
       "773982               6103              6295           Français   \n",
       "913414              65147             69179           Français   \n",
       "498927               5849              6412           Français   \n",
       "22253                1871              2604           Français   \n",
       "1542358             13605             12466          Portugais   \n",
       "79755              123223            124601           Allemand   \n",
       "1268782            192773            171430           Français   \n",
       "967010               1884              3648           Polonais   \n",
       "805075              36052             38377           Français   \n",
       "\n",
       "                                                 geo_shape  \\\n",
       "1297417  {\"type\": \"Point\", \"coordinates\": [2.325065434,...   \n",
       "773982   {\"type\": \"Point\", \"coordinates\": [2.383960071,...   \n",
       "913414   {\"type\": \"Point\", \"coordinates\": [2.3987890642...   \n",
       "498927   {\"type\": \"Point\", \"coordinates\": [2.2721208538...   \n",
       "22253    {\"type\": \"Point\", \"coordinates\": [2.3891714419...   \n",
       "1542358  {\"type\": \"Point\", \"coordinates\": [2.2893499444...   \n",
       "79755    {\"type\": \"Point\", \"coordinates\": [2.3632099736...   \n",
       "1268782  {\"type\": \"Point\", \"coordinates\": [2.3672066687...   \n",
       "967010   {\"type\": \"Point\", \"coordinates\": [2.2969973367...   \n",
       "805075   {\"type\": \"Point\", \"coordinates\": [2.3455065053...   \n",
       "\n",
       "                        geo_point_2d        Etat du site  \\\n",
       "1297417  48.8611484589,2.32506543396  Fermé pour travaux   \n",
       "773982   48.8515955528,2.38396007097        Opérationnel   \n",
       "913414   48.8627043264,2.39878906422        Opérationnel   \n",
       "498927   48.8675228068,2.27212085381        Opérationnel   \n",
       "22253    48.8417054788,2.38917144192        Opérationnel   \n",
       "1542358  48.8609372147,2.28934994437        Opérationnel   \n",
       "79755    48.8901061541,2.36320997363        Opérationnel   \n",
       "1268782  48.8801112154,2.36720666871        Opérationnel   \n",
       "967010   48.8647101823,2.29699733667        Opérationnel   \n",
       "805075   48.8665683485,2.34550650532        Opérationnel   \n",
       "\n",
       "                               Adresse  Nombre de bornes  \n",
       "1297417              PORT DE SOLFERINO               3.0  \n",
       "773982                18 RUE FAIDHERBE               4.0  \n",
       "913414                    18 RUE RAMUS               2.0  \n",
       "498927          30-32 BOULEVARD LANNES               1.0  \n",
       "22253     11 RUE ANTOINE JULIEN HENARD               1.0  \n",
       "1542358  1 PLACE DU ONZE NOVEMBRE 1918               1.0  \n",
       "79755                    26B RUE PAJOL               4.0  \n",
       "1268782              150 QUAI DE VALMY               1.0  \n",
       "967010   11 AVENUE DU PRESIDENT WILSON              11.0  \n",
       "805075           17 RUE LEOPOLD BELLAN               1.0  "
      ]
     },
     "execution_count": 136,
     "metadata": {},
     "output_type": "execute_result"
    }
   ],
   "source": [
    "df.sample(10)"
   ]
  },
  {
   "cell_type": "code",
   "execution_count": 138,
   "metadata": {
    "scrolled": true
   },
   "outputs": [
    {
     "name": "stdout",
     "output_type": "stream",
     "text": [
      "<class 'pandas.core.frame.DataFrame'>\n",
      "RangeIndex: 1627738 entries, 0 to 1627737\n",
      "Data columns (total 19 columns):\n",
      "Code Site                       1612801 non-null category\n",
      "Date heure début                1627738 non-null datetime64[ns]\n",
      "Temps de sessions en minutes    1627738 non-null float64\n",
      "Nom du site                     1627738 non-null object\n",
      "Code postal                     1624015 non-null category\n",
      "Type d'appareil                 1627738 non-null category\n",
      "Constructeur appareil           1627738 non-null object\n",
      "Version système exploitation    1551296 non-null object\n",
      "Version navigateur              1585808 non-null object\n",
      "Donnée entrante (MégaOctet)     1627738 non-null float64\n",
      "Donnée sortante (MégaOctet)     1627738 non-null float64\n",
      "Paquets entrants                1627738 non-null int64\n",
      "Paquets sortants                1627738 non-null int64\n",
      "Langue utilisateur              1567714 non-null object\n",
      "geo_shape                       1608592 non-null object\n",
      "geo_point_2d                    1608592 non-null object\n",
      "Etat du site                    1608592 non-null object\n",
      "Adresse                         1608592 non-null object\n",
      "Nombre de bornes                1608592 non-null float64\n",
      "dtypes: category(3), datetime64[ns](1), float64(4), int64(2), object(9)\n",
      "memory usage: 204.9+ MB\n"
     ]
    }
   ],
   "source": [
    "df.info()"
   ]
  },
  {
   "cell_type": "markdown",
   "metadata": {},
   "source": [
    "### Removing rows with missing values"
   ]
  },
  {
   "cell_type": "code",
   "execution_count": 139,
   "metadata": {},
   "outputs": [],
   "source": [
    "df = df.dropna(how='any')"
   ]
  },
  {
   "cell_type": "code",
   "execution_count": 140,
   "metadata": {},
   "outputs": [
    {
     "name": "stdout",
     "output_type": "stream",
     "text": [
      "<class 'pandas.core.frame.DataFrame'>\n",
      "Int64Index: 1432685 entries, 0 to 1627737\n",
      "Data columns (total 19 columns):\n",
      "Code Site                       1432685 non-null category\n",
      "Date heure début                1432685 non-null datetime64[ns]\n",
      "Temps de sessions en minutes    1432685 non-null float64\n",
      "Nom du site                     1432685 non-null object\n",
      "Code postal                     1432685 non-null category\n",
      "Type d'appareil                 1432685 non-null category\n",
      "Constructeur appareil           1432685 non-null object\n",
      "Version système exploitation    1432685 non-null object\n",
      "Version navigateur              1432685 non-null object\n",
      "Donnée entrante (MégaOctet)     1432685 non-null float64\n",
      "Donnée sortante (MégaOctet)     1432685 non-null float64\n",
      "Paquets entrants                1432685 non-null int64\n",
      "Paquets sortants                1432685 non-null int64\n",
      "Langue utilisateur              1432685 non-null object\n",
      "geo_shape                       1432685 non-null object\n",
      "geo_point_2d                    1432685 non-null object\n",
      "Etat du site                    1432685 non-null object\n",
      "Adresse                         1432685 non-null object\n",
      "Nombre de bornes                1432685 non-null float64\n",
      "dtypes: category(3), datetime64[ns](1), float64(4), int64(2), object(9)\n",
      "memory usage: 191.3+ MB\n"
     ]
    }
   ],
   "source": [
    "df.info()"
   ]
  },
  {
   "cell_type": "code",
   "execution_count": 141,
   "metadata": {},
   "outputs": [],
   "source": [
    "pd.set_option('display.float_format', lambda x: '%.1f' % x)"
   ]
  },
  {
   "cell_type": "code",
   "execution_count": 142,
   "metadata": {},
   "outputs": [
    {
     "data": {
      "text/html": [
       "<div>\n",
       "<style scoped>\n",
       "    .dataframe tbody tr th:only-of-type {\n",
       "        vertical-align: middle;\n",
       "    }\n",
       "\n",
       "    .dataframe tbody tr th {\n",
       "        vertical-align: top;\n",
       "    }\n",
       "\n",
       "    .dataframe thead th {\n",
       "        text-align: right;\n",
       "    }\n",
       "</style>\n",
       "<table border=\"1\" class=\"dataframe\">\n",
       "  <thead>\n",
       "    <tr style=\"text-align: right;\">\n",
       "      <th></th>\n",
       "      <th>Temps de sessions en minutes</th>\n",
       "      <th>Donnée entrante (MégaOctet)</th>\n",
       "      <th>Donnée sortante (MégaOctet)</th>\n",
       "      <th>Paquets entrants</th>\n",
       "      <th>Paquets sortants</th>\n",
       "      <th>Nombre de bornes</th>\n",
       "    </tr>\n",
       "  </thead>\n",
       "  <tbody>\n",
       "    <tr>\n",
       "      <th>count</th>\n",
       "      <td>1432685.0</td>\n",
       "      <td>1432685.0</td>\n",
       "      <td>1432685.0</td>\n",
       "      <td>1432685.0</td>\n",
       "      <td>1432685.0</td>\n",
       "      <td>1432685.0</td>\n",
       "    </tr>\n",
       "    <tr>\n",
       "      <th>mean</th>\n",
       "      <td>38.8</td>\n",
       "      <td>62.3</td>\n",
       "      <td>9.4</td>\n",
       "      <td>52355.5</td>\n",
       "      <td>52311.9</td>\n",
       "      <td>3.2</td>\n",
       "    </tr>\n",
       "    <tr>\n",
       "      <th>std</th>\n",
       "      <td>40.0</td>\n",
       "      <td>110.0</td>\n",
       "      <td>34.3</td>\n",
       "      <td>100042.6</td>\n",
       "      <td>107873.0</td>\n",
       "      <td>3.9</td>\n",
       "    </tr>\n",
       "    <tr>\n",
       "      <th>min</th>\n",
       "      <td>0.0</td>\n",
       "      <td>0.0</td>\n",
       "      <td>0.0</td>\n",
       "      <td>0.0</td>\n",
       "      <td>0.0</td>\n",
       "      <td>1.0</td>\n",
       "    </tr>\n",
       "    <tr>\n",
       "      <th>25%</th>\n",
       "      <td>7.0</td>\n",
       "      <td>4.8</td>\n",
       "      <td>0.7</td>\n",
       "      <td>4734.0</td>\n",
       "      <td>5212.0</td>\n",
       "      <td>1.0</td>\n",
       "    </tr>\n",
       "    <tr>\n",
       "      <th>50%</th>\n",
       "      <td>21.8</td>\n",
       "      <td>19.7</td>\n",
       "      <td>2.7</td>\n",
       "      <td>18082.0</td>\n",
       "      <td>18854.0</td>\n",
       "      <td>2.0</td>\n",
       "    </tr>\n",
       "    <tr>\n",
       "      <th>75%</th>\n",
       "      <td>60.8</td>\n",
       "      <td>68.0</td>\n",
       "      <td>8.5</td>\n",
       "      <td>59140.0</td>\n",
       "      <td>58924.0</td>\n",
       "      <td>4.0</td>\n",
       "    </tr>\n",
       "    <tr>\n",
       "      <th>max</th>\n",
       "      <td>1429.0</td>\n",
       "      <td>4307.4</td>\n",
       "      <td>3552.9</td>\n",
       "      <td>11624359.0</td>\n",
       "      <td>11664547.0</td>\n",
       "      <td>32.0</td>\n",
       "    </tr>\n",
       "  </tbody>\n",
       "</table>\n",
       "</div>"
      ],
      "text/plain": [
       "       Temps de sessions en minutes  Donnée entrante (MégaOctet)  \\\n",
       "count                     1432685.0                    1432685.0   \n",
       "mean                           38.8                         62.3   \n",
       "std                            40.0                        110.0   \n",
       "min                             0.0                          0.0   \n",
       "25%                             7.0                          4.8   \n",
       "50%                            21.8                         19.7   \n",
       "75%                            60.8                         68.0   \n",
       "max                          1429.0                       4307.4   \n",
       "\n",
       "       Donnée sortante (MégaOctet)  Paquets entrants  Paquets sortants  \\\n",
       "count                    1432685.0         1432685.0         1432685.0   \n",
       "mean                           9.4           52355.5           52311.9   \n",
       "std                           34.3          100042.6          107873.0   \n",
       "min                            0.0               0.0               0.0   \n",
       "25%                            0.7            4734.0            5212.0   \n",
       "50%                            2.7           18082.0           18854.0   \n",
       "75%                            8.5           59140.0           58924.0   \n",
       "max                         3552.9        11624359.0        11664547.0   \n",
       "\n",
       "       Nombre de bornes  \n",
       "count         1432685.0  \n",
       "mean                3.2  \n",
       "std                 3.9  \n",
       "min                 1.0  \n",
       "25%                 1.0  \n",
       "50%                 2.0  \n",
       "75%                 4.0  \n",
       "max                32.0  "
      ]
     },
     "execution_count": 142,
     "metadata": {},
     "output_type": "execute_result"
    }
   ],
   "source": [
    "df.describe()"
   ]
  },
  {
   "cell_type": "code",
   "execution_count": 143,
   "metadata": {
    "scrolled": true
   },
   "outputs": [
    {
     "data": {
      "text/html": [
       "<style  type=\"text/css\" >\n",
       "    #T_2f11cc9a_3cbf_11ec_9748_9cb6d0e2f4f9row0_col0 {\n",
       "            background-color:  #023858;\n",
       "        }    #T_2f11cc9a_3cbf_11ec_9748_9cb6d0e2f4f9row0_col1 {\n",
       "            background-color:  #549cc7;\n",
       "        }    #T_2f11cc9a_3cbf_11ec_9748_9cb6d0e2f4f9row0_col2 {\n",
       "            background-color:  #d6d6e9;\n",
       "        }    #T_2f11cc9a_3cbf_11ec_9748_9cb6d0e2f4f9row0_col3 {\n",
       "            background-color:  #6da6cd;\n",
       "        }    #T_2f11cc9a_3cbf_11ec_9748_9cb6d0e2f4f9row0_col4 {\n",
       "            background-color:  #83afd3;\n",
       "        }    #T_2f11cc9a_3cbf_11ec_9748_9cb6d0e2f4f9row0_col5 {\n",
       "            background-color:  #f7f0f7;\n",
       "        }    #T_2f11cc9a_3cbf_11ec_9748_9cb6d0e2f4f9row1_col0 {\n",
       "            background-color:  #60a1ca;\n",
       "        }    #T_2f11cc9a_3cbf_11ec_9748_9cb6d0e2f4f9row1_col1 {\n",
       "            background-color:  #023858;\n",
       "        }    #T_2f11cc9a_3cbf_11ec_9748_9cb6d0e2f4f9row1_col2 {\n",
       "            background-color:  #cacee5;\n",
       "        }    #T_2f11cc9a_3cbf_11ec_9748_9cb6d0e2f4f9row1_col3 {\n",
       "            background-color:  #04639b;\n",
       "        }    #T_2f11cc9a_3cbf_11ec_9748_9cb6d0e2f4f9row1_col4 {\n",
       "            background-color:  #0d75b3;\n",
       "        }    #T_2f11cc9a_3cbf_11ec_9748_9cb6d0e2f4f9row1_col5 {\n",
       "            background-color:  #fff7fb;\n",
       "        }    #T_2f11cc9a_3cbf_11ec_9748_9cb6d0e2f4f9row2_col0 {\n",
       "            background-color:  #e0dded;\n",
       "        }    #T_2f11cc9a_3cbf_11ec_9748_9cb6d0e2f4f9row2_col1 {\n",
       "            background-color:  #cccfe5;\n",
       "        }    #T_2f11cc9a_3cbf_11ec_9748_9cb6d0e2f4f9row2_col2 {\n",
       "            background-color:  #023858;\n",
       "        }    #T_2f11cc9a_3cbf_11ec_9748_9cb6d0e2f4f9row2_col3 {\n",
       "            background-color:  #71a8ce;\n",
       "        }    #T_2f11cc9a_3cbf_11ec_9748_9cb6d0e2f4f9row2_col4 {\n",
       "            background-color:  #4a98c5;\n",
       "        }    #T_2f11cc9a_3cbf_11ec_9748_9cb6d0e2f4f9row2_col5 {\n",
       "            background-color:  #fff7fb;\n",
       "        }    #T_2f11cc9a_3cbf_11ec_9748_9cb6d0e2f4f9row3_col0 {\n",
       "            background-color:  #79abd0;\n",
       "        }    #T_2f11cc9a_3cbf_11ec_9748_9cb6d0e2f4f9row3_col1 {\n",
       "            background-color:  #04639b;\n",
       "        }    #T_2f11cc9a_3cbf_11ec_9748_9cb6d0e2f4f9row3_col2 {\n",
       "            background-color:  #71a8ce;\n",
       "        }    #T_2f11cc9a_3cbf_11ec_9748_9cb6d0e2f4f9row3_col3 {\n",
       "            background-color:  #023858;\n",
       "        }    #T_2f11cc9a_3cbf_11ec_9748_9cb6d0e2f4f9row3_col4 {\n",
       "            background-color:  #045382;\n",
       "        }    #T_2f11cc9a_3cbf_11ec_9748_9cb6d0e2f4f9row3_col5 {\n",
       "            background-color:  #fff7fb;\n",
       "        }    #T_2f11cc9a_3cbf_11ec_9748_9cb6d0e2f4f9row4_col0 {\n",
       "            background-color:  #8fb4d6;\n",
       "        }    #T_2f11cc9a_3cbf_11ec_9748_9cb6d0e2f4f9row4_col1 {\n",
       "            background-color:  #0d75b3;\n",
       "        }    #T_2f11cc9a_3cbf_11ec_9748_9cb6d0e2f4f9row4_col2 {\n",
       "            background-color:  #4a98c5;\n",
       "        }    #T_2f11cc9a_3cbf_11ec_9748_9cb6d0e2f4f9row4_col3 {\n",
       "            background-color:  #045382;\n",
       "        }    #T_2f11cc9a_3cbf_11ec_9748_9cb6d0e2f4f9row4_col4 {\n",
       "            background-color:  #023858;\n",
       "        }    #T_2f11cc9a_3cbf_11ec_9748_9cb6d0e2f4f9row4_col5 {\n",
       "            background-color:  #fff7fb;\n",
       "        }    #T_2f11cc9a_3cbf_11ec_9748_9cb6d0e2f4f9row5_col0 {\n",
       "            background-color:  #fff7fb;\n",
       "        }    #T_2f11cc9a_3cbf_11ec_9748_9cb6d0e2f4f9row5_col1 {\n",
       "            background-color:  #fff7fb;\n",
       "        }    #T_2f11cc9a_3cbf_11ec_9748_9cb6d0e2f4f9row5_col2 {\n",
       "            background-color:  #fff7fb;\n",
       "        }    #T_2f11cc9a_3cbf_11ec_9748_9cb6d0e2f4f9row5_col3 {\n",
       "            background-color:  #fff7fb;\n",
       "        }    #T_2f11cc9a_3cbf_11ec_9748_9cb6d0e2f4f9row5_col4 {\n",
       "            background-color:  #fff7fb;\n",
       "        }    #T_2f11cc9a_3cbf_11ec_9748_9cb6d0e2f4f9row5_col5 {\n",
       "            background-color:  #023858;\n",
       "        }</style>  \n",
       "<table id=\"T_2f11cc9a_3cbf_11ec_9748_9cb6d0e2f4f9\" > \n",
       "<thead>    <tr> \n",
       "        <th class=\"blank level0\" ></th> \n",
       "        <th class=\"col_heading level0 col0\" >Temps de sessions en minutes</th> \n",
       "        <th class=\"col_heading level0 col1\" >Donnée entrante (MégaOctet)</th> \n",
       "        <th class=\"col_heading level0 col2\" >Donnée sortante (MégaOctet)</th> \n",
       "        <th class=\"col_heading level0 col3\" >Paquets entrants</th> \n",
       "        <th class=\"col_heading level0 col4\" >Paquets sortants</th> \n",
       "        <th class=\"col_heading level0 col5\" >Nombre de bornes</th> \n",
       "    </tr></thead> \n",
       "<tbody>    <tr> \n",
       "        <th id=\"T_2f11cc9a_3cbf_11ec_9748_9cb6d0e2f4f9level0_row0\" class=\"row_heading level0 row0\" >Temps de sessions en minutes</th> \n",
       "        <td id=\"T_2f11cc9a_3cbf_11ec_9748_9cb6d0e2f4f9row0_col0\" class=\"data row0 col0\" >1</td> \n",
       "        <td id=\"T_2f11cc9a_3cbf_11ec_9748_9cb6d0e2f4f9row0_col1\" class=\"data row0 col1\" >0.575798</td> \n",
       "        <td id=\"T_2f11cc9a_3cbf_11ec_9748_9cb6d0e2f4f9row0_col2\" class=\"data row0 col2\" >0.243029</td> \n",
       "        <td id=\"T_2f11cc9a_3cbf_11ec_9748_9cb6d0e2f4f9row0_col3\" class=\"data row0 col3\" >0.526109</td> \n",
       "        <td id=\"T_2f11cc9a_3cbf_11ec_9748_9cb6d0e2f4f9row0_col4\" class=\"data row0 col4\" >0.473802</td> \n",
       "        <td id=\"T_2f11cc9a_3cbf_11ec_9748_9cb6d0e2f4f9row0_col5\" class=\"data row0 col5\" >0.0769296</td> \n",
       "    </tr>    <tr> \n",
       "        <th id=\"T_2f11cc9a_3cbf_11ec_9748_9cb6d0e2f4f9level0_row1\" class=\"row_heading level0 row1\" >Donnée entrante (MégaOctet)</th> \n",
       "        <td id=\"T_2f11cc9a_3cbf_11ec_9748_9cb6d0e2f4f9row1_col0\" class=\"data row1 col0\" >0.575798</td> \n",
       "        <td id=\"T_2f11cc9a_3cbf_11ec_9748_9cb6d0e2f4f9row1_col1\" class=\"data row1 col1\" >1</td> \n",
       "        <td id=\"T_2f11cc9a_3cbf_11ec_9748_9cb6d0e2f4f9row1_col2\" class=\"data row1 col2\" >0.28346</td> \n",
       "        <td id=\"T_2f11cc9a_3cbf_11ec_9748_9cb6d0e2f4f9row1_col3\" class=\"data row1 col3\" >0.82805</td> \n",
       "        <td id=\"T_2f11cc9a_3cbf_11ec_9748_9cb6d0e2f4f9row1_col4\" class=\"data row1 col4\" >0.733852</td> \n",
       "        <td id=\"T_2f11cc9a_3cbf_11ec_9748_9cb6d0e2f4f9row1_col5\" class=\"data row1 col5\" >0.0259292</td> \n",
       "    </tr>    <tr> \n",
       "        <th id=\"T_2f11cc9a_3cbf_11ec_9748_9cb6d0e2f4f9level0_row2\" class=\"row_heading level0 row2\" >Donnée sortante (MégaOctet)</th> \n",
       "        <td id=\"T_2f11cc9a_3cbf_11ec_9748_9cb6d0e2f4f9row2_col0\" class=\"data row2 col0\" >0.243029</td> \n",
       "        <td id=\"T_2f11cc9a_3cbf_11ec_9748_9cb6d0e2f4f9row2_col1\" class=\"data row2 col1\" >0.28346</td> \n",
       "        <td id=\"T_2f11cc9a_3cbf_11ec_9748_9cb6d0e2f4f9row2_col2\" class=\"data row2 col2\" >1</td> \n",
       "        <td id=\"T_2f11cc9a_3cbf_11ec_9748_9cb6d0e2f4f9row2_col3\" class=\"data row2 col3\" >0.51677</td> \n",
       "        <td id=\"T_2f11cc9a_3cbf_11ec_9748_9cb6d0e2f4f9row2_col4\" class=\"data row2 col4\" >0.594034</td> \n",
       "        <td id=\"T_2f11cc9a_3cbf_11ec_9748_9cb6d0e2f4f9row2_col5\" class=\"data row2 col5\" >0.0229426</td> \n",
       "    </tr>    <tr> \n",
       "        <th id=\"T_2f11cc9a_3cbf_11ec_9748_9cb6d0e2f4f9level0_row3\" class=\"row_heading level0 row3\" >Paquets entrants</th> \n",
       "        <td id=\"T_2f11cc9a_3cbf_11ec_9748_9cb6d0e2f4f9row3_col0\" class=\"data row3 col0\" >0.526109</td> \n",
       "        <td id=\"T_2f11cc9a_3cbf_11ec_9748_9cb6d0e2f4f9row3_col1\" class=\"data row3 col1\" >0.82805</td> \n",
       "        <td id=\"T_2f11cc9a_3cbf_11ec_9748_9cb6d0e2f4f9row3_col2\" class=\"data row3 col2\" >0.51677</td> \n",
       "        <td id=\"T_2f11cc9a_3cbf_11ec_9748_9cb6d0e2f4f9row3_col3\" class=\"data row3 col3\" >1</td> \n",
       "        <td id=\"T_2f11cc9a_3cbf_11ec_9748_9cb6d0e2f4f9row3_col4\" class=\"data row3 col4\" >0.901399</td> \n",
       "        <td id=\"T_2f11cc9a_3cbf_11ec_9748_9cb6d0e2f4f9row3_col5\" class=\"data row3 col5\" >0.0222113</td> \n",
       "    </tr>    <tr> \n",
       "        <th id=\"T_2f11cc9a_3cbf_11ec_9748_9cb6d0e2f4f9level0_row4\" class=\"row_heading level0 row4\" >Paquets sortants</th> \n",
       "        <td id=\"T_2f11cc9a_3cbf_11ec_9748_9cb6d0e2f4f9row4_col0\" class=\"data row4 col0\" >0.473802</td> \n",
       "        <td id=\"T_2f11cc9a_3cbf_11ec_9748_9cb6d0e2f4f9row4_col1\" class=\"data row4 col1\" >0.733852</td> \n",
       "        <td id=\"T_2f11cc9a_3cbf_11ec_9748_9cb6d0e2f4f9row4_col2\" class=\"data row4 col2\" >0.594034</td> \n",
       "        <td id=\"T_2f11cc9a_3cbf_11ec_9748_9cb6d0e2f4f9row4_col3\" class=\"data row4 col3\" >0.901399</td> \n",
       "        <td id=\"T_2f11cc9a_3cbf_11ec_9748_9cb6d0e2f4f9row4_col4\" class=\"data row4 col4\" >1</td> \n",
       "        <td id=\"T_2f11cc9a_3cbf_11ec_9748_9cb6d0e2f4f9row4_col5\" class=\"data row4 col5\" >0.0237234</td> \n",
       "    </tr>    <tr> \n",
       "        <th id=\"T_2f11cc9a_3cbf_11ec_9748_9cb6d0e2f4f9level0_row5\" class=\"row_heading level0 row5\" >Nombre de bornes</th> \n",
       "        <td id=\"T_2f11cc9a_3cbf_11ec_9748_9cb6d0e2f4f9row5_col0\" class=\"data row5 col0\" >0.0769296</td> \n",
       "        <td id=\"T_2f11cc9a_3cbf_11ec_9748_9cb6d0e2f4f9row5_col1\" class=\"data row5 col1\" >0.0259292</td> \n",
       "        <td id=\"T_2f11cc9a_3cbf_11ec_9748_9cb6d0e2f4f9row5_col2\" class=\"data row5 col2\" >0.0229426</td> \n",
       "        <td id=\"T_2f11cc9a_3cbf_11ec_9748_9cb6d0e2f4f9row5_col3\" class=\"data row5 col3\" >0.0222113</td> \n",
       "        <td id=\"T_2f11cc9a_3cbf_11ec_9748_9cb6d0e2f4f9row5_col4\" class=\"data row5 col4\" >0.0237234</td> \n",
       "        <td id=\"T_2f11cc9a_3cbf_11ec_9748_9cb6d0e2f4f9row5_col5\" class=\"data row5 col5\" >1</td> \n",
       "    </tr></tbody> \n",
       "</table> "
      ],
      "text/plain": [
       "<pandas.io.formats.style.Styler at 0x7ff7b329b160>"
      ]
     },
     "execution_count": 143,
     "metadata": {},
     "output_type": "execute_result"
    }
   ],
   "source": [
    "df.corr().style.background_gradient()"
   ]
  },
  {
   "cell_type": "markdown",
   "metadata": {},
   "source": [
    "### a. Différents sites"
   ]
  },
  {
   "cell_type": "code",
   "execution_count": 51,
   "metadata": {},
   "outputs": [
    {
     "data": {
      "text/plain": [
       "count     263.0\n",
       "mean     6132.3\n",
       "std      7363.4\n",
       "min         6.0\n",
       "25%      1722.5\n",
       "50%      3680.0\n",
       "75%      7544.5\n",
       "max     58339.0\n",
       "Name: Date heure début, dtype: float64"
      ]
     },
     "execution_count": 51,
     "metadata": {},
     "output_type": "execute_result"
    }
   ],
   "source": [
    "df_sites = df.groupby('Code Site').count()['Date heure début']\n",
    "df_sites.describe()"
   ]
  },
  {
   "cell_type": "code",
   "execution_count": 55,
   "metadata": {},
   "outputs": [
    {
     "data": {
      "text/plain": [
       "<matplotlib.axes._subplots.AxesSubplot at 0x7ff7ae9e4710>"
      ]
     },
     "execution_count": 55,
     "metadata": {},
     "output_type": "execute_result"
    },
    {
     "data": {
      "image/png": "[encoded data removed]",
      "text/plain": [
       "<matplotlib.figure.Figure at 0x7ff7b804d4a8>"
      ]
     },
     "metadata": {},
     "output_type": "display_data"
    }
   ],
   "source": [
    "df_sites.plot.hist(bins = 400)"
   ]
  },
  {
   "cell_type": "markdown",
   "metadata": {},
   "source": [
    "### b. Getting week days"
   ]
  },
  {
   "cell_type": "code",
   "execution_count": 145,
   "metadata": {},
   "outputs": [],
   "source": [
    "a = df['Date heure début']"
   ]
  },
  {
   "cell_type": "code",
   "execution_count": 148,
   "metadata": {},
   "outputs": [
    {
     "data": {
      "text/plain": [
       "6"
      ]
     },
     "execution_count": 148,
     "metadata": {},
     "output_type": "execute_result"
    }
   ],
   "source": [
    "a[0].weekday()"
   ]
  },
  {
   "cell_type": "code",
   "execution_count": 152,
   "metadata": {
    "scrolled": true
   },
   "outputs": [],
   "source": [
    "df['Jour'] = df['Date heure début'].apply(lambda x: x.weekday())"
   ]
  },
  {
   "cell_type": "markdown",
   "metadata": {},
   "source": [
    "### c. Add a category for time during the day"
   ]
  },
  {
   "cell_type": "raw",
   "metadata": {},
   "source": [
    "TODO"
   ]
  },
  {
   "cell_type": "raw",
   "metadata": {},
   "source": []
  }
 ],
 "metadata": {
  "kernelspec": {
   "display_name": "Python 3",
   "language": "python",
   "name": "python3"
  },
  "language_info": {
   "codemirror_mode": {
    "name": "ipython",
    "version": 3
   },
   "file_extension": ".py",
   "mimetype": "text/x-python",
   "name": "python",
   "nbconvert_exporter": "python",
   "pygments_lexer": "ipython3",
   "version": "3.6.9"
  }
 },
 "nbformat": 4,
 "nbformat_minor": 2
}
