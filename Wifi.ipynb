{
 "cells": [
  {
   "cell_type": "markdown",
   "metadata": {},
   "source": [
    "# Wifi"
   ]
  },
  {
   "cell_type": "code",
   "execution_count": 1,
   "metadata": {},
   "outputs": [],
   "source": [
    "import numpy as np\n",
    "import pandas as pd\n",
    "import fanalysis\n",
    "from fanalysis.ca import CA"
   ]
  },
  {
   "cell_type": "markdown",
   "metadata": {},
   "source": [
    "## Importation des données"
   ]
  },
  {
   "cell_type": "raw",
   "metadata": {},
   "source": [
    "dtype = {'Code Site', 'Date heure début', 'Date heure fin',\n",
    "       'Temps de session en secondes', 'Temps de sessions en minutes',\n",
    "       'Nom du site', 'Code postal', 'Type d'appareil',\n",
    "       'Constructeur appareil', 'Version système exploitation',\n",
    "       'Version navigateur', 'Donnée entrante (Octet)',\n",
    "       'Donnée entrante (MégaOctet)', 'Donnée sortante (Octet)',\n",
    "       'Donnée sortante (MégaOctet)', 'Paquets entrants', 'Paquets sortants',\n",
    "       'Langue utilisateur', 'geo_shape', 'geo_point_2d', 'Etat du site',\n",
    "       'Nom du site.1', 'Adresse', 'Nombre de bornes', 'Code postal.1'}"
   ]
  },
  {
   "cell_type": "code",
   "execution_count": 2,
   "metadata": {},
   "outputs": [],
   "source": [
    "dtype = {'Code Site': 'category', \n",
    "         'Nom du site': str, \n",
    "         'Code postal': 'category', \n",
    "         \"Type d'appareil\":'category', 'Nombre de borne': int, \n",
    "         'Adresse': str, 'Langue utilisateur': 'category', \n",
    "         'Version navigateur': 'category', \n",
    "         'Version système exploitation': 'category', \n",
    "         'Constructeur appareil': 'category'}"
   ]
  },
  {
   "cell_type": "code",
   "execution_count": 46,
   "metadata": {
    "scrolled": true
   },
   "outputs": [
    {
     "name": "stderr",
     "output_type": "stream",
     "text": [
      "/usr/lib/python3/dist-packages/IPython/core/interactiveshell.py:2718: DtypeWarning: Columns (24) have mixed types.Specify dtype option on import or set low_memory=False.\n",
      "  interactivity=interactivity, compiler=compiler, result=result)\n"
     ]
    }
   ],
   "source": [
    "df = pd.read_csv(\"./data/paris-wi-fi-utilisation-des-hotspots-paris-wi-fi.csv\", sep=\";\", dtype=dtype)"
   ]
  },
  {
   "cell_type": "code",
   "execution_count": 47,
   "metadata": {
    "scrolled": true
   },
   "outputs": [
    {
     "name": "stdout",
     "output_type": "stream",
     "text": [
      "<class 'pandas.core.frame.DataFrame'>\n",
      "RangeIndex: 1627738 entries, 0 to 1627737\n",
      "Data columns (total 25 columns):\n",
      " #   Column                        Non-Null Count    Dtype   \n",
      "---  ------                        --------------    -----   \n",
      " 0   Code Site                     1612801 non-null  category\n",
      " 1   Date heure début              1627738 non-null  object  \n",
      " 2   Date heure fin                1627738 non-null  object  \n",
      " 3   Temps de session en secondes  1627738 non-null  int64   \n",
      " 4   Temps de sessions en minutes  1627738 non-null  float64 \n",
      " 5   Nom du site                   1627738 non-null  object  \n",
      " 6   Code postal                   1624015 non-null  category\n",
      " 7   Type d'appareil               1627738 non-null  category\n",
      " 8   Constructeur appareil         1627738 non-null  category\n",
      " 9   Version système exploitation  1551296 non-null  category\n",
      " 10  Version navigateur            1585808 non-null  category\n",
      " 11  Donnée entrante (Octet)       1627738 non-null  int64   \n",
      " 12  Donnée entrante (MégaOctet)   1627738 non-null  float64 \n",
      " 13  Donnée sortante (Octet)       1627738 non-null  int64   \n",
      " 14  Donnée sortante (MégaOctet)   1627738 non-null  float64 \n",
      " 15  Paquets entrants              1627738 non-null  int64   \n",
      " 16  Paquets sortants              1627738 non-null  int64   \n",
      " 17  Langue utilisateur            1567714 non-null  category\n",
      " 18  geo_shape                     1608592 non-null  object  \n",
      " 19  geo_point_2d                  1608592 non-null  object  \n",
      " 20  Etat du site                  1608592 non-null  object  \n",
      " 21  Nom du site.1                 1627738 non-null  object  \n",
      " 22  Adresse                       1608592 non-null  object  \n",
      " 23  Nombre de bornes              1608592 non-null  float64 \n",
      " 24  Code postal.1                 1624015 non-null  object  \n",
      "dtypes: category(7), float64(4), int64(5), object(9)\n",
      "memory usage: 239.1+ MB\n"
     ]
    }
   ],
   "source": [
    "df.info()"
   ]
  },
  {
   "cell_type": "code",
   "execution_count": 48,
   "metadata": {},
   "outputs": [],
   "source": [
    "# To limit the size\n",
    "df_ = df.sample(3000)"
   ]
  },
  {
   "cell_type": "markdown",
   "metadata": {},
   "source": [
    "**Remove duplicate columns**"
   ]
  },
  {
   "cell_type": "raw",
   "metadata": {},
   "source": [
    "len(df['Code postal'] == df['Code postal.1'])"
   ]
  },
  {
   "cell_type": "code",
   "execution_count": 6,
   "metadata": {},
   "outputs": [],
   "source": [
    "del df['Date heure fin']\n",
    "del df['Donnée entrante (Octet)']\n",
    "del df['Donnée sortante (Octet)']\n",
    "del df['Code postal.1']\n",
    "del df['Nom du site.1']\n",
    "del df['Temps de session en secondes']"
   ]
  },
  {
   "cell_type": "markdown",
   "metadata": {},
   "source": [
    "**Remove useless columns**"
   ]
  },
  {
   "cell_type": "markdown",
   "metadata": {},
   "source": [
    "**Convert time columns**"
   ]
  },
  {
   "cell_type": "code",
   "execution_count": 7,
   "metadata": {},
   "outputs": [],
   "source": [
    "df['Date heure début'] = pd.to_datetime(df['Date heure début'])"
   ]
  },
  {
   "cell_type": "markdown",
   "metadata": {},
   "source": [
    "## Observation des données"
   ]
  },
  {
   "cell_type": "code",
   "execution_count": 8,
   "metadata": {},
   "outputs": [
    {
     "data": {
      "text/plain": [
       "3000"
      ]
     },
     "execution_count": 8,
     "metadata": {},
     "output_type": "execute_result"
    }
   ],
   "source": [
    "len(df)"
   ]
  },
  {
   "cell_type": "code",
   "execution_count": 9,
   "metadata": {
    "scrolled": false
   },
   "outputs": [
    {
     "data": {
      "text/plain": [
       "Index(['Code Site', 'Date heure début', 'Temps de sessions en minutes',\n",
       "       'Nom du site', 'Code postal', 'Type d'appareil',\n",
       "       'Constructeur appareil', 'Version système exploitation',\n",
       "       'Version navigateur', 'Donnée entrante (MégaOctet)',\n",
       "       'Donnée sortante (MégaOctet)', 'Paquets entrants', 'Paquets sortants',\n",
       "       'Langue utilisateur', 'geo_shape', 'geo_point_2d', 'Etat du site',\n",
       "       'Adresse', 'Nombre de bornes'],\n",
       "      dtype='object')"
      ]
     },
     "execution_count": 9,
     "metadata": {},
     "output_type": "execute_result"
    }
   ],
   "source": [
    "df.columns"
   ]
  },
  {
   "cell_type": "code",
   "execution_count": 10,
   "metadata": {
    "scrolled": true
   },
   "outputs": [
    {
     "data": {
      "text/html": [
       "<div>\n",
       "<style scoped>\n",
       "    .dataframe tbody tr th:only-of-type {\n",
       "        vertical-align: middle;\n",
       "    }\n",
       "\n",
       "    .dataframe tbody tr th {\n",
       "        vertical-align: top;\n",
       "    }\n",
       "\n",
       "    .dataframe thead th {\n",
       "        text-align: right;\n",
       "    }\n",
       "</style>\n",
       "<table border=\"1\" class=\"dataframe\">\n",
       "  <thead>\n",
       "    <tr style=\"text-align: right;\">\n",
       "      <th></th>\n",
       "      <th>Code Site</th>\n",
       "      <th>Date heure début</th>\n",
       "      <th>Temps de sessions en minutes</th>\n",
       "      <th>Nom du site</th>\n",
       "      <th>Code postal</th>\n",
       "      <th>Type d'appareil</th>\n",
       "      <th>Constructeur appareil</th>\n",
       "      <th>Version système exploitation</th>\n",
       "      <th>Version navigateur</th>\n",
       "      <th>Donnée entrante (MégaOctet)</th>\n",
       "      <th>Donnée sortante (MégaOctet)</th>\n",
       "      <th>Paquets entrants</th>\n",
       "      <th>Paquets sortants</th>\n",
       "      <th>Langue utilisateur</th>\n",
       "      <th>geo_shape</th>\n",
       "      <th>geo_point_2d</th>\n",
       "      <th>Etat du site</th>\n",
       "      <th>Adresse</th>\n",
       "      <th>Nombre de bornes</th>\n",
       "    </tr>\n",
       "  </thead>\n",
       "  <tbody>\n",
       "    <tr>\n",
       "      <th>182961</th>\n",
       "      <td>PW0188</td>\n",
       "      <td>2021-06-01 16:46:06+02:00</td>\n",
       "      <td>21.983333</td>\n",
       "      <td>SQ SERMENT DE KOUFRA</td>\n",
       "      <td>75014</td>\n",
       "      <td>Mobile</td>\n",
       "      <td>Apple</td>\n",
       "      <td>iOS 11.4.1</td>\n",
       "      <td>Safari unknown</td>\n",
       "      <td>27.252702</td>\n",
       "      <td>2.321070</td>\n",
       "      <td>24621</td>\n",
       "      <td>24356</td>\n",
       "      <td>Français</td>\n",
       "      <td>{\"type\": \"Point\", \"coordinates\": [2.3230349822...</td>\n",
       "      <td>48.8215934539,2.32303498218</td>\n",
       "      <td>Opérationnel</td>\n",
       "      <td>30 AVENUE ERNEST REYER</td>\n",
       "      <td>1.0</td>\n",
       "    </tr>\n",
       "    <tr>\n",
       "      <th>827575</th>\n",
       "      <td>PW0021</td>\n",
       "      <td>2019-11-09 13:26:48+01:00</td>\n",
       "      <td>19.516667</td>\n",
       "      <td>MAIRIE DU 5 EME</td>\n",
       "      <td>75005</td>\n",
       "      <td>Mobile</td>\n",
       "      <td>Samsung</td>\n",
       "      <td>inconnu</td>\n",
       "      <td>Chrome 77.0</td>\n",
       "      <td>23.880631</td>\n",
       "      <td>3.921942</td>\n",
       "      <td>18412</td>\n",
       "      <td>18425</td>\n",
       "      <td>Français</td>\n",
       "      <td>{\"type\": \"Point\", \"coordinates\": [2.3445808787...</td>\n",
       "      <td>48.846191709,2.3445808787</td>\n",
       "      <td>Opérationnel</td>\n",
       "      <td>21 PLACE DU PANTHEON</td>\n",
       "      <td>2.0</td>\n",
       "    </tr>\n",
       "    <tr>\n",
       "      <th>393458</th>\n",
       "      <td>PW0083</td>\n",
       "      <td>2019-11-15 17:29:30+01:00</td>\n",
       "      <td>1.333333</td>\n",
       "      <td>CS JULES LADOUMEGUE</td>\n",
       "      <td>75019</td>\n",
       "      <td>Mobile</td>\n",
       "      <td>autre</td>\n",
       "      <td>inconnu</td>\n",
       "      <td>Chrome 78.0</td>\n",
       "      <td>1.157338</td>\n",
       "      <td>0.253805</td>\n",
       "      <td>1372</td>\n",
       "      <td>1272</td>\n",
       "      <td>Français</td>\n",
       "      <td>{\"type\": \"Point\", \"coordinates\": [2.397787507,...</td>\n",
       "      <td>48.893005177,2.39778750696</td>\n",
       "      <td>Opérationnel</td>\n",
       "      <td>37 ROUTE DES PETITS PONTS</td>\n",
       "      <td>1.0</td>\n",
       "    </tr>\n",
       "    <tr>\n",
       "      <th>339906</th>\n",
       "      <td>PW0045</td>\n",
       "      <td>2021-08-12 09:16:19+02:00</td>\n",
       "      <td>8.250000</td>\n",
       "      <td>BIB MARGUERITE DURAS</td>\n",
       "      <td>75020</td>\n",
       "      <td>Mobile</td>\n",
       "      <td>autre</td>\n",
       "      <td>inconnu</td>\n",
       "      <td>inconnu</td>\n",
       "      <td>0.022971</td>\n",
       "      <td>0.009219</td>\n",
       "      <td>64</td>\n",
       "      <td>91</td>\n",
       "      <td>Français</td>\n",
       "      <td>{\"type\": \"Point\", \"coordinates\": [2.4032269985...</td>\n",
       "      <td>48.8598387687,2.40322699854</td>\n",
       "      <td>Opérationnel</td>\n",
       "      <td>109-115 RUE DE BAGNOLET</td>\n",
       "      <td>11.0</td>\n",
       "    </tr>\n",
       "    <tr>\n",
       "      <th>1329573</th>\n",
       "      <td>PW0071</td>\n",
       "      <td>2020-12-08 09:33:21+01:00</td>\n",
       "      <td>120.250000</td>\n",
       "      <td>CS ALFRED NAKACHE</td>\n",
       "      <td>75020</td>\n",
       "      <td>Mobile</td>\n",
       "      <td>autre</td>\n",
       "      <td>inconnu</td>\n",
       "      <td>Chrome 86.0</td>\n",
       "      <td>32.594457</td>\n",
       "      <td>3.499516</td>\n",
       "      <td>24585</td>\n",
       "      <td>27245</td>\n",
       "      <td>Français</td>\n",
       "      <td>{\"type\": \"Point\", \"coordinates\": [2.3786770353...</td>\n",
       "      <td>48.8714830648,2.37867703535</td>\n",
       "      <td>Opérationnel</td>\n",
       "      <td>4/12 RUE DENOYEZ</td>\n",
       "      <td>1.0</td>\n",
       "    </tr>\n",
       "    <tr>\n",
       "      <th>1586189</th>\n",
       "      <td>PW0199</td>\n",
       "      <td>2019-09-08 19:37:00+02:00</td>\n",
       "      <td>34.400000</td>\n",
       "      <td>SQ CLAUDE NICOLAS LEDOUX</td>\n",
       "      <td>75014</td>\n",
       "      <td>Mobile</td>\n",
       "      <td>Apple</td>\n",
       "      <td>iOS 12.4</td>\n",
       "      <td>Safari unknown</td>\n",
       "      <td>37.974218</td>\n",
       "      <td>3.382328</td>\n",
       "      <td>29764</td>\n",
       "      <td>33850</td>\n",
       "      <td>Anglais</td>\n",
       "      <td>{\"type\": \"Point\", \"coordinates\": [2.3321285183...</td>\n",
       "      <td>48.8342318805,2.33212851833</td>\n",
       "      <td>Opérationnel</td>\n",
       "      <td>2 PLACE DENFERT ROCHEREAU</td>\n",
       "      <td>2.0</td>\n",
       "    </tr>\n",
       "    <tr>\n",
       "      <th>1030087</th>\n",
       "      <td>PW0032</td>\n",
       "      <td>2021-09-15 14:41:01+02:00</td>\n",
       "      <td>49.850000</td>\n",
       "      <td>MVAC 18</td>\n",
       "      <td>75018</td>\n",
       "      <td>Ordinateur</td>\n",
       "      <td>autre</td>\n",
       "      <td>Windows 10</td>\n",
       "      <td>Chrome 93.0</td>\n",
       "      <td>6.533833</td>\n",
       "      <td>1.271468</td>\n",
       "      <td>7813</td>\n",
       "      <td>6521</td>\n",
       "      <td>Français</td>\n",
       "      <td>{\"type\": \"Point\", \"coordinates\": [2.3473354971...</td>\n",
       "      <td>48.890069083,2.34733549712</td>\n",
       "      <td>Opérationnel</td>\n",
       "      <td>15 PASSAGE RAMEY</td>\n",
       "      <td>3.0</td>\n",
       "    </tr>\n",
       "    <tr>\n",
       "      <th>1436357</th>\n",
       "      <td>PW0104</td>\n",
       "      <td>2021-02-21 14:52:06+01:00</td>\n",
       "      <td>120.166667</td>\n",
       "      <td>BIB EDMOND ROSTAND</td>\n",
       "      <td>75017</td>\n",
       "      <td>Ordinateur</td>\n",
       "      <td>Apple</td>\n",
       "      <td>Mac OS X 10.13.6</td>\n",
       "      <td>inconnu</td>\n",
       "      <td>669.324134</td>\n",
       "      <td>32.700932</td>\n",
       "      <td>446205</td>\n",
       "      <td>528443</td>\n",
       "      <td>NaN</td>\n",
       "      <td>{\"type\": \"Point\", \"coordinates\": [2.3030897057...</td>\n",
       "      <td>48.8883943592,2.30308970568</td>\n",
       "      <td>Opérationnel</td>\n",
       "      <td>11 RUE NICOLAS CHUQUET</td>\n",
       "      <td>3.0</td>\n",
       "    </tr>\n",
       "    <tr>\n",
       "      <th>157125</th>\n",
       "      <td>PW0082</td>\n",
       "      <td>2020-02-10 15:15:55+01:00</td>\n",
       "      <td>120.950000</td>\n",
       "      <td>CS JEAN DAME</td>\n",
       "      <td>75002</td>\n",
       "      <td>Mobile</td>\n",
       "      <td>autre</td>\n",
       "      <td>inconnu</td>\n",
       "      <td>Chrome 80.0</td>\n",
       "      <td>495.061445</td>\n",
       "      <td>19.963748</td>\n",
       "      <td>315172</td>\n",
       "      <td>293820</td>\n",
       "      <td>Français</td>\n",
       "      <td>{\"type\": \"Point\", \"coordinates\": [2.3455065053...</td>\n",
       "      <td>48.8665683485,2.34550650532</td>\n",
       "      <td>Opérationnel</td>\n",
       "      <td>17 RUE LEOPOLD BELLAN</td>\n",
       "      <td>1.0</td>\n",
       "    </tr>\n",
       "    <tr>\n",
       "      <th>1608697</th>\n",
       "      <td>PW0205</td>\n",
       "      <td>2020-02-22 22:39:41+01:00</td>\n",
       "      <td>6.033333</td>\n",
       "      <td>SQ MAURICE GARDETTE</td>\n",
       "      <td>75011</td>\n",
       "      <td>Mobile</td>\n",
       "      <td>Apple</td>\n",
       "      <td>iOS 12.3.1</td>\n",
       "      <td>Safari unknown</td>\n",
       "      <td>27.247644</td>\n",
       "      <td>3.317588</td>\n",
       "      <td>19385</td>\n",
       "      <td>25977</td>\n",
       "      <td>Français</td>\n",
       "      <td>{\"type\": \"Point\", \"coordinates\": [2.3790725171...</td>\n",
       "      <td>48.8610851934,2.37907251705</td>\n",
       "      <td>Opérationnel</td>\n",
       "      <td>2 RUE DU GENERAL BLAISE RUE LACHARRIERE</td>\n",
       "      <td>1.0</td>\n",
       "    </tr>\n",
       "  </tbody>\n",
       "</table>\n",
       "</div>"
      ],
      "text/plain": [
       "        Code Site           Date heure début  Temps de sessions en minutes  \\\n",
       "182961     PW0188  2021-06-01 16:46:06+02:00                     21.983333   \n",
       "827575     PW0021  2019-11-09 13:26:48+01:00                     19.516667   \n",
       "393458     PW0083  2019-11-15 17:29:30+01:00                      1.333333   \n",
       "339906     PW0045  2021-08-12 09:16:19+02:00                      8.250000   \n",
       "1329573    PW0071  2020-12-08 09:33:21+01:00                    120.250000   \n",
       "1586189    PW0199  2019-09-08 19:37:00+02:00                     34.400000   \n",
       "1030087    PW0032  2021-09-15 14:41:01+02:00                     49.850000   \n",
       "1436357    PW0104  2021-02-21 14:52:06+01:00                    120.166667   \n",
       "157125     PW0082  2020-02-10 15:15:55+01:00                    120.950000   \n",
       "1608697    PW0205  2020-02-22 22:39:41+01:00                      6.033333   \n",
       "\n",
       "                      Nom du site Code postal Type d'appareil  \\\n",
       "182961       SQ SERMENT DE KOUFRA       75014          Mobile   \n",
       "827575            MAIRIE DU 5 EME       75005          Mobile   \n",
       "393458        CS JULES LADOUMEGUE       75019          Mobile   \n",
       "339906       BIB MARGUERITE DURAS       75020          Mobile   \n",
       "1329573         CS ALFRED NAKACHE       75020          Mobile   \n",
       "1586189  SQ CLAUDE NICOLAS LEDOUX       75014          Mobile   \n",
       "1030087                   MVAC 18       75018      Ordinateur   \n",
       "1436357        BIB EDMOND ROSTAND       75017      Ordinateur   \n",
       "157125               CS JEAN DAME       75002          Mobile   \n",
       "1608697       SQ MAURICE GARDETTE       75011          Mobile   \n",
       "\n",
       "        Constructeur appareil Version système exploitation Version navigateur  \\\n",
       "182961                  Apple                   iOS 11.4.1     Safari unknown   \n",
       "827575                Samsung                      inconnu        Chrome 77.0   \n",
       "393458                  autre                      inconnu        Chrome 78.0   \n",
       "339906                  autre                      inconnu            inconnu   \n",
       "1329573                 autre                      inconnu        Chrome 86.0   \n",
       "1586189                 Apple                     iOS 12.4     Safari unknown   \n",
       "1030087                 autre                   Windows 10        Chrome 93.0   \n",
       "1436357                 Apple             Mac OS X 10.13.6            inconnu   \n",
       "157125                  autre                      inconnu        Chrome 80.0   \n",
       "1608697                 Apple                   iOS 12.3.1     Safari unknown   \n",
       "\n",
       "         Donnée entrante (MégaOctet)  Donnée sortante (MégaOctet)  \\\n",
       "182961                     27.252702                     2.321070   \n",
       "827575                     23.880631                     3.921942   \n",
       "393458                      1.157338                     0.253805   \n",
       "339906                      0.022971                     0.009219   \n",
       "1329573                    32.594457                     3.499516   \n",
       "1586189                    37.974218                     3.382328   \n",
       "1030087                     6.533833                     1.271468   \n",
       "1436357                   669.324134                    32.700932   \n",
       "157125                    495.061445                    19.963748   \n",
       "1608697                    27.247644                     3.317588   \n",
       "\n",
       "         Paquets entrants  Paquets sortants Langue utilisateur  \\\n",
       "182961              24621             24356           Français   \n",
       "827575              18412             18425           Français   \n",
       "393458               1372              1272           Français   \n",
       "339906                 64                91           Français   \n",
       "1329573             24585             27245           Français   \n",
       "1586189             29764             33850            Anglais   \n",
       "1030087              7813              6521           Français   \n",
       "1436357            446205            528443                NaN   \n",
       "157125             315172            293820           Français   \n",
       "1608697             19385             25977           Français   \n",
       "\n",
       "                                                 geo_shape  \\\n",
       "182961   {\"type\": \"Point\", \"coordinates\": [2.3230349822...   \n",
       "827575   {\"type\": \"Point\", \"coordinates\": [2.3445808787...   \n",
       "393458   {\"type\": \"Point\", \"coordinates\": [2.397787507,...   \n",
       "339906   {\"type\": \"Point\", \"coordinates\": [2.4032269985...   \n",
       "1329573  {\"type\": \"Point\", \"coordinates\": [2.3786770353...   \n",
       "1586189  {\"type\": \"Point\", \"coordinates\": [2.3321285183...   \n",
       "1030087  {\"type\": \"Point\", \"coordinates\": [2.3473354971...   \n",
       "1436357  {\"type\": \"Point\", \"coordinates\": [2.3030897057...   \n",
       "157125   {\"type\": \"Point\", \"coordinates\": [2.3455065053...   \n",
       "1608697  {\"type\": \"Point\", \"coordinates\": [2.3790725171...   \n",
       "\n",
       "                        geo_point_2d  Etat du site  \\\n",
       "182961   48.8215934539,2.32303498218  Opérationnel   \n",
       "827575     48.846191709,2.3445808787  Opérationnel   \n",
       "393458    48.893005177,2.39778750696  Opérationnel   \n",
       "339906   48.8598387687,2.40322699854  Opérationnel   \n",
       "1329573  48.8714830648,2.37867703535  Opérationnel   \n",
       "1586189  48.8342318805,2.33212851833  Opérationnel   \n",
       "1030087   48.890069083,2.34733549712  Opérationnel   \n",
       "1436357  48.8883943592,2.30308970568  Opérationnel   \n",
       "157125   48.8665683485,2.34550650532  Opérationnel   \n",
       "1608697  48.8610851934,2.37907251705  Opérationnel   \n",
       "\n",
       "                                         Adresse  Nombre de bornes  \n",
       "182961                    30 AVENUE ERNEST REYER               1.0  \n",
       "827575                      21 PLACE DU PANTHEON               2.0  \n",
       "393458                 37 ROUTE DES PETITS PONTS               1.0  \n",
       "339906                   109-115 RUE DE BAGNOLET              11.0  \n",
       "1329573                         4/12 RUE DENOYEZ               1.0  \n",
       "1586189                2 PLACE DENFERT ROCHEREAU               2.0  \n",
       "1030087                         15 PASSAGE RAMEY               3.0  \n",
       "1436357                   11 RUE NICOLAS CHUQUET               3.0  \n",
       "157125                     17 RUE LEOPOLD BELLAN               1.0  \n",
       "1608697  2 RUE DU GENERAL BLAISE RUE LACHARRIERE               1.0  "
      ]
     },
     "execution_count": 10,
     "metadata": {},
     "output_type": "execute_result"
    }
   ],
   "source": [
    "df.sample(10)"
   ]
  },
  {
   "cell_type": "code",
   "execution_count": 11,
   "metadata": {
    "scrolled": true
   },
   "outputs": [
    {
     "name": "stdout",
     "output_type": "stream",
     "text": [
      "<class 'pandas.core.frame.DataFrame'>\n",
      "Int64Index: 3000 entries, 840517 to 23189\n",
      "Data columns (total 19 columns):\n",
      " #   Column                        Non-Null Count  Dtype   \n",
      "---  ------                        --------------  -----   \n",
      " 0   Code Site                     2965 non-null   category\n",
      " 1   Date heure début              3000 non-null   object  \n",
      " 2   Temps de sessions en minutes  3000 non-null   float64 \n",
      " 3   Nom du site                   3000 non-null   object  \n",
      " 4   Code postal                   2993 non-null   category\n",
      " 5   Type d'appareil               3000 non-null   category\n",
      " 6   Constructeur appareil         3000 non-null   category\n",
      " 7   Version système exploitation  2854 non-null   category\n",
      " 8   Version navigateur            2926 non-null   category\n",
      " 9   Donnée entrante (MégaOctet)   3000 non-null   float64 \n",
      " 10  Donnée sortante (MégaOctet)   3000 non-null   float64 \n",
      " 11  Paquets entrants              3000 non-null   int64   \n",
      " 12  Paquets sortants              3000 non-null   int64   \n",
      " 13  Langue utilisateur            2894 non-null   category\n",
      " 14  geo_shape                     2961 non-null   object  \n",
      " 15  geo_point_2d                  2961 non-null   object  \n",
      " 16  Etat du site                  2961 non-null   object  \n",
      " 17  Adresse                       2961 non-null   object  \n",
      " 18  Nombre de bornes              2961 non-null   float64 \n",
      "dtypes: category(7), float64(4), int64(2), object(6)\n",
      "memory usage: 371.8+ KB\n"
     ]
    }
   ],
   "source": [
    "df.info()"
   ]
  },
  {
   "cell_type": "markdown",
   "metadata": {},
   "source": [
    "### Removing rows with missing values"
   ]
  },
  {
   "cell_type": "code",
   "execution_count": 12,
   "metadata": {},
   "outputs": [],
   "source": [
    "df = df.dropna(how='any')"
   ]
  },
  {
   "cell_type": "code",
   "execution_count": 13,
   "metadata": {},
   "outputs": [
    {
     "name": "stdout",
     "output_type": "stream",
     "text": [
      "<class 'pandas.core.frame.DataFrame'>\n",
      "Int64Index: 2639 entries, 840517 to 23189\n",
      "Data columns (total 19 columns):\n",
      " #   Column                        Non-Null Count  Dtype   \n",
      "---  ------                        --------------  -----   \n",
      " 0   Code Site                     2639 non-null   category\n",
      " 1   Date heure début              2639 non-null   object  \n",
      " 2   Temps de sessions en minutes  2639 non-null   float64 \n",
      " 3   Nom du site                   2639 non-null   object  \n",
      " 4   Code postal                   2639 non-null   category\n",
      " 5   Type d'appareil               2639 non-null   category\n",
      " 6   Constructeur appareil         2639 non-null   category\n",
      " 7   Version système exploitation  2639 non-null   category\n",
      " 8   Version navigateur            2639 non-null   category\n",
      " 9   Donnée entrante (MégaOctet)   2639 non-null   float64 \n",
      " 10  Donnée sortante (MégaOctet)   2639 non-null   float64 \n",
      " 11  Paquets entrants              2639 non-null   int64   \n",
      " 12  Paquets sortants              2639 non-null   int64   \n",
      " 13  Langue utilisateur            2639 non-null   category\n",
      " 14  geo_shape                     2639 non-null   object  \n",
      " 15  geo_point_2d                  2639 non-null   object  \n",
      " 16  Etat du site                  2639 non-null   object  \n",
      " 17  Adresse                       2639 non-null   object  \n",
      " 18  Nombre de bornes              2639 non-null   float64 \n",
      "dtypes: category(7), float64(4), int64(2), object(6)\n",
      "memory usage: 331.6+ KB\n"
     ]
    }
   ],
   "source": [
    "df.info()"
   ]
  },
  {
   "cell_type": "code",
   "execution_count": 14,
   "metadata": {},
   "outputs": [],
   "source": [
    "pd.set_option('display.float_format', lambda x: '%.1f' % x)"
   ]
  },
  {
   "cell_type": "code",
   "execution_count": 15,
   "metadata": {},
   "outputs": [
    {
     "data": {
      "text/html": [
       "<div>\n",
       "<style scoped>\n",
       "    .dataframe tbody tr th:only-of-type {\n",
       "        vertical-align: middle;\n",
       "    }\n",
       "\n",
       "    .dataframe tbody tr th {\n",
       "        vertical-align: top;\n",
       "    }\n",
       "\n",
       "    .dataframe thead th {\n",
       "        text-align: right;\n",
       "    }\n",
       "</style>\n",
       "<table border=\"1\" class=\"dataframe\">\n",
       "  <thead>\n",
       "    <tr style=\"text-align: right;\">\n",
       "      <th></th>\n",
       "      <th>Temps de sessions en minutes</th>\n",
       "      <th>Donnée entrante (MégaOctet)</th>\n",
       "      <th>Donnée sortante (MégaOctet)</th>\n",
       "      <th>Paquets entrants</th>\n",
       "      <th>Paquets sortants</th>\n",
       "      <th>Nombre de bornes</th>\n",
       "    </tr>\n",
       "  </thead>\n",
       "  <tbody>\n",
       "    <tr>\n",
       "      <th>count</th>\n",
       "      <td>2639.0</td>\n",
       "      <td>2639.0</td>\n",
       "      <td>2639.0</td>\n",
       "      <td>2639.0</td>\n",
       "      <td>2639.0</td>\n",
       "      <td>2639.0</td>\n",
       "    </tr>\n",
       "    <tr>\n",
       "      <th>mean</th>\n",
       "      <td>38.7</td>\n",
       "      <td>62.2</td>\n",
       "      <td>8.9</td>\n",
       "      <td>50808.6</td>\n",
       "      <td>50061.3</td>\n",
       "      <td>3.3</td>\n",
       "    </tr>\n",
       "    <tr>\n",
       "      <th>std</th>\n",
       "      <td>40.1</td>\n",
       "      <td>120.6</td>\n",
       "      <td>28.5</td>\n",
       "      <td>92139.3</td>\n",
       "      <td>90228.9</td>\n",
       "      <td>3.9</td>\n",
       "    </tr>\n",
       "    <tr>\n",
       "      <th>min</th>\n",
       "      <td>0.0</td>\n",
       "      <td>0.0</td>\n",
       "      <td>0.0</td>\n",
       "      <td>0.0</td>\n",
       "      <td>0.0</td>\n",
       "      <td>1.0</td>\n",
       "    </tr>\n",
       "    <tr>\n",
       "      <th>25%</th>\n",
       "      <td>6.9</td>\n",
       "      <td>4.7</td>\n",
       "      <td>0.7</td>\n",
       "      <td>4570.0</td>\n",
       "      <td>4928.0</td>\n",
       "      <td>1.0</td>\n",
       "    </tr>\n",
       "    <tr>\n",
       "      <th>50%</th>\n",
       "      <td>20.7</td>\n",
       "      <td>19.8</td>\n",
       "      <td>2.7</td>\n",
       "      <td>18082.0</td>\n",
       "      <td>18811.0</td>\n",
       "      <td>2.0</td>\n",
       "    </tr>\n",
       "    <tr>\n",
       "      <th>75%</th>\n",
       "      <td>61.7</td>\n",
       "      <td>67.5</td>\n",
       "      <td>8.4</td>\n",
       "      <td>57750.0</td>\n",
       "      <td>58280.0</td>\n",
       "      <td>4.0</td>\n",
       "    </tr>\n",
       "    <tr>\n",
       "      <th>max</th>\n",
       "      <td>124.8</td>\n",
       "      <td>2891.1</td>\n",
       "      <td>878.1</td>\n",
       "      <td>2179581.0</td>\n",
       "      <td>2062077.0</td>\n",
       "      <td>32.0</td>\n",
       "    </tr>\n",
       "  </tbody>\n",
       "</table>\n",
       "</div>"
      ],
      "text/plain": [
       "       Temps de sessions en minutes  Donnée entrante (MégaOctet)  \\\n",
       "count                        2639.0                       2639.0   \n",
       "mean                           38.7                         62.2   \n",
       "std                            40.1                        120.6   \n",
       "min                             0.0                          0.0   \n",
       "25%                             6.9                          4.7   \n",
       "50%                            20.7                         19.8   \n",
       "75%                            61.7                         67.5   \n",
       "max                           124.8                       2891.1   \n",
       "\n",
       "       Donnée sortante (MégaOctet)  Paquets entrants  Paquets sortants  \\\n",
       "count                       2639.0            2639.0            2639.0   \n",
       "mean                           8.9           50808.6           50061.3   \n",
       "std                           28.5           92139.3           90228.9   \n",
       "min                            0.0               0.0               0.0   \n",
       "25%                            0.7            4570.0            4928.0   \n",
       "50%                            2.7           18082.0           18811.0   \n",
       "75%                            8.4           57750.0           58280.0   \n",
       "max                          878.1         2179581.0         2062077.0   \n",
       "\n",
       "       Nombre de bornes  \n",
       "count            2639.0  \n",
       "mean                3.3  \n",
       "std                 3.9  \n",
       "min                 1.0  \n",
       "25%                 1.0  \n",
       "50%                 2.0  \n",
       "75%                 4.0  \n",
       "max                32.0  "
      ]
     },
     "execution_count": 15,
     "metadata": {},
     "output_type": "execute_result"
    }
   ],
   "source": [
    "df.describe()"
   ]
  },
  {
   "cell_type": "code",
   "execution_count": 16,
   "metadata": {
    "scrolled": true
   },
   "outputs": [
    {
     "data": {
      "text/html": [
       "<style  type=\"text/css\" >\n",
       "#T_e45b5a30_72c5_11ec_b710_0242b2414222row0_col0,#T_e45b5a30_72c5_11ec_b710_0242b2414222row1_col1,#T_e45b5a30_72c5_11ec_b710_0242b2414222row2_col2,#T_e45b5a30_72c5_11ec_b710_0242b2414222row3_col3,#T_e45b5a30_72c5_11ec_b710_0242b2414222row4_col4,#T_e45b5a30_72c5_11ec_b710_0242b2414222row5_col5{\n",
       "            background-color:  #023858;\n",
       "            color:  #f1f1f1;\n",
       "        }#T_e45b5a30_72c5_11ec_b710_0242b2414222row0_col1{\n",
       "            background-color:  #78abd0;\n",
       "            color:  #000000;\n",
       "        }#T_e45b5a30_72c5_11ec_b710_0242b2414222row0_col2{\n",
       "            background-color:  #cccfe5;\n",
       "            color:  #000000;\n",
       "        }#T_e45b5a30_72c5_11ec_b710_0242b2414222row0_col3{\n",
       "            background-color:  #62a2cb;\n",
       "            color:  #000000;\n",
       "        }#T_e45b5a30_72c5_11ec_b710_0242b2414222row0_col4,#T_e45b5a30_72c5_11ec_b710_0242b2414222row3_col0{\n",
       "            background-color:  #69a5cc;\n",
       "            color:  #000000;\n",
       "        }#T_e45b5a30_72c5_11ec_b710_0242b2414222row0_col5{\n",
       "            background-color:  #f8f1f8;\n",
       "            color:  #000000;\n",
       "        }#T_e45b5a30_72c5_11ec_b710_0242b2414222row1_col0{\n",
       "            background-color:  #80aed2;\n",
       "            color:  #000000;\n",
       "        }#T_e45b5a30_72c5_11ec_b710_0242b2414222row1_col2{\n",
       "            background-color:  #d1d2e6;\n",
       "            color:  #000000;\n",
       "        }#T_e45b5a30_72c5_11ec_b710_0242b2414222row1_col3{\n",
       "            background-color:  #0567a1;\n",
       "            color:  #f1f1f1;\n",
       "        }#T_e45b5a30_72c5_11ec_b710_0242b2414222row1_col4,#T_e45b5a30_72c5_11ec_b710_0242b2414222row4_col1{\n",
       "            background-color:  #056ba9;\n",
       "            color:  #f1f1f1;\n",
       "        }#T_e45b5a30_72c5_11ec_b710_0242b2414222row1_col5,#T_e45b5a30_72c5_11ec_b710_0242b2414222row3_col5,#T_e45b5a30_72c5_11ec_b710_0242b2414222row4_col5{\n",
       "            background-color:  #fdf5fa;\n",
       "            color:  #000000;\n",
       "        }#T_e45b5a30_72c5_11ec_b710_0242b2414222row2_col0{\n",
       "            background-color:  #d5d5e8;\n",
       "            color:  #000000;\n",
       "        }#T_e45b5a30_72c5_11ec_b710_0242b2414222row2_col1{\n",
       "            background-color:  #d2d3e7;\n",
       "            color:  #000000;\n",
       "        }#T_e45b5a30_72c5_11ec_b710_0242b2414222row2_col3{\n",
       "            background-color:  #8bb2d4;\n",
       "            color:  #000000;\n",
       "        }#T_e45b5a30_72c5_11ec_b710_0242b2414222row2_col4{\n",
       "            background-color:  #67a4cc;\n",
       "            color:  #000000;\n",
       "        }#T_e45b5a30_72c5_11ec_b710_0242b2414222row2_col5,#T_e45b5a30_72c5_11ec_b710_0242b2414222row5_col0,#T_e45b5a30_72c5_11ec_b710_0242b2414222row5_col1,#T_e45b5a30_72c5_11ec_b710_0242b2414222row5_col2,#T_e45b5a30_72c5_11ec_b710_0242b2414222row5_col3,#T_e45b5a30_72c5_11ec_b710_0242b2414222row5_col4{\n",
       "            background-color:  #fff7fb;\n",
       "            color:  #000000;\n",
       "        }#T_e45b5a30_72c5_11ec_b710_0242b2414222row3_col1{\n",
       "            background-color:  #0566a0;\n",
       "            color:  #f1f1f1;\n",
       "        }#T_e45b5a30_72c5_11ec_b710_0242b2414222row3_col2{\n",
       "            background-color:  #86b0d3;\n",
       "            color:  #000000;\n",
       "        }#T_e45b5a30_72c5_11ec_b710_0242b2414222row3_col4,#T_e45b5a30_72c5_11ec_b710_0242b2414222row4_col3{\n",
       "            background-color:  #023d60;\n",
       "            color:  #f1f1f1;\n",
       "        }#T_e45b5a30_72c5_11ec_b710_0242b2414222row4_col0{\n",
       "            background-color:  #71a8ce;\n",
       "            color:  #000000;\n",
       "        }#T_e45b5a30_72c5_11ec_b710_0242b2414222row4_col2{\n",
       "            background-color:  #65a3cb;\n",
       "            color:  #000000;\n",
       "        }</style><table id=\"T_e45b5a30_72c5_11ec_b710_0242b2414222\" ><thead>    <tr>        <th class=\"blank level0\" ></th>        <th class=\"col_heading level0 col0\" >Temps de sessions en minutes</th>        <th class=\"col_heading level0 col1\" >Donnée entrante (MégaOctet)</th>        <th class=\"col_heading level0 col2\" >Donnée sortante (MégaOctet)</th>        <th class=\"col_heading level0 col3\" >Paquets entrants</th>        <th class=\"col_heading level0 col4\" >Paquets sortants</th>        <th class=\"col_heading level0 col5\" >Nombre de bornes</th>    </tr></thead><tbody>\n",
       "                <tr>\n",
       "                        <th id=\"T_e45b5a30_72c5_11ec_b710_0242b2414222level0_row0\" class=\"row_heading level0 row0\" >Temps de sessions en minutes</th>\n",
       "                        <td id=\"T_e45b5a30_72c5_11ec_b710_0242b2414222row0_col0\" class=\"data row0 col0\" >1.000000</td>\n",
       "                        <td id=\"T_e45b5a30_72c5_11ec_b710_0242b2414222row0_col1\" class=\"data row0 col1\" >0.497191</td>\n",
       "                        <td id=\"T_e45b5a30_72c5_11ec_b710_0242b2414222row0_col2\" class=\"data row0 col2\" >0.263861</td>\n",
       "                        <td id=\"T_e45b5a30_72c5_11ec_b710_0242b2414222row0_col3\" class=\"data row0 col3\" >0.544713</td>\n",
       "                        <td id=\"T_e45b5a30_72c5_11ec_b710_0242b2414222row0_col4\" class=\"data row0 col4\" >0.529925</td>\n",
       "                        <td id=\"T_e45b5a30_72c5_11ec_b710_0242b2414222row0_col5\" class=\"data row0 col5\" >0.046562</td>\n",
       "            </tr>\n",
       "            <tr>\n",
       "                        <th id=\"T_e45b5a30_72c5_11ec_b710_0242b2414222level0_row1\" class=\"row_heading level0 row1\" >Donnée entrante (MégaOctet)</th>\n",
       "                        <td id=\"T_e45b5a30_72c5_11ec_b710_0242b2414222row1_col0\" class=\"data row1 col0\" >0.497191</td>\n",
       "                        <td id=\"T_e45b5a30_72c5_11ec_b710_0242b2414222row1_col1\" class=\"data row1 col1\" >1.000000</td>\n",
       "                        <td id=\"T_e45b5a30_72c5_11ec_b710_0242b2414222row1_col2\" class=\"data row1 col2\" >0.250157</td>\n",
       "                        <td id=\"T_e45b5a30_72c5_11ec_b710_0242b2414222row1_col3\" class=\"data row1 col3\" >0.807677</td>\n",
       "                        <td id=\"T_e45b5a30_72c5_11ec_b710_0242b2414222row1_col4\" class=\"data row1 col4\" >0.779453</td>\n",
       "                        <td id=\"T_e45b5a30_72c5_11ec_b710_0242b2414222row1_col5\" class=\"data row1 col5\" >0.015003</td>\n",
       "            </tr>\n",
       "            <tr>\n",
       "                        <th id=\"T_e45b5a30_72c5_11ec_b710_0242b2414222level0_row2\" class=\"row_heading level0 row2\" >Donnée sortante (MégaOctet)</th>\n",
       "                        <td id=\"T_e45b5a30_72c5_11ec_b710_0242b2414222row2_col0\" class=\"data row2 col0\" >0.263861</td>\n",
       "                        <td id=\"T_e45b5a30_72c5_11ec_b710_0242b2414222row2_col1\" class=\"data row2 col1\" >0.250157</td>\n",
       "                        <td id=\"T_e45b5a30_72c5_11ec_b710_0242b2414222row2_col2\" class=\"data row2 col2\" >1.000000</td>\n",
       "                        <td id=\"T_e45b5a30_72c5_11ec_b710_0242b2414222row2_col3\" class=\"data row2 col3\" >0.455365</td>\n",
       "                        <td id=\"T_e45b5a30_72c5_11ec_b710_0242b2414222row2_col4\" class=\"data row2 col4\" >0.530308</td>\n",
       "                        <td id=\"T_e45b5a30_72c5_11ec_b710_0242b2414222row2_col5\" class=\"data row2 col5\" >0.002039</td>\n",
       "            </tr>\n",
       "            <tr>\n",
       "                        <th id=\"T_e45b5a30_72c5_11ec_b710_0242b2414222level0_row3\" class=\"row_heading level0 row3\" >Paquets entrants</th>\n",
       "                        <td id=\"T_e45b5a30_72c5_11ec_b710_0242b2414222row3_col0\" class=\"data row3 col0\" >0.544713</td>\n",
       "                        <td id=\"T_e45b5a30_72c5_11ec_b710_0242b2414222row3_col1\" class=\"data row3 col1\" >0.807677</td>\n",
       "                        <td id=\"T_e45b5a30_72c5_11ec_b710_0242b2414222row3_col2\" class=\"data row3 col2\" >0.455365</td>\n",
       "                        <td id=\"T_e45b5a30_72c5_11ec_b710_0242b2414222row3_col3\" class=\"data row3 col3\" >1.000000</td>\n",
       "                        <td id=\"T_e45b5a30_72c5_11ec_b710_0242b2414222row3_col4\" class=\"data row3 col4\" >0.980229</td>\n",
       "                        <td id=\"T_e45b5a30_72c5_11ec_b710_0242b2414222row3_col5\" class=\"data row3 col5\" >0.019783</td>\n",
       "            </tr>\n",
       "            <tr>\n",
       "                        <th id=\"T_e45b5a30_72c5_11ec_b710_0242b2414222level0_row4\" class=\"row_heading level0 row4\" >Paquets sortants</th>\n",
       "                        <td id=\"T_e45b5a30_72c5_11ec_b710_0242b2414222row4_col0\" class=\"data row4 col0\" >0.529925</td>\n",
       "                        <td id=\"T_e45b5a30_72c5_11ec_b710_0242b2414222row4_col1\" class=\"data row4 col1\" >0.779453</td>\n",
       "                        <td id=\"T_e45b5a30_72c5_11ec_b710_0242b2414222row4_col2\" class=\"data row4 col2\" >0.530308</td>\n",
       "                        <td id=\"T_e45b5a30_72c5_11ec_b710_0242b2414222row4_col3\" class=\"data row4 col3\" >0.980229</td>\n",
       "                        <td id=\"T_e45b5a30_72c5_11ec_b710_0242b2414222row4_col4\" class=\"data row4 col4\" >1.000000</td>\n",
       "                        <td id=\"T_e45b5a30_72c5_11ec_b710_0242b2414222row4_col5\" class=\"data row4 col5\" >0.014300</td>\n",
       "            </tr>\n",
       "            <tr>\n",
       "                        <th id=\"T_e45b5a30_72c5_11ec_b710_0242b2414222level0_row5\" class=\"row_heading level0 row5\" >Nombre de bornes</th>\n",
       "                        <td id=\"T_e45b5a30_72c5_11ec_b710_0242b2414222row5_col0\" class=\"data row5 col0\" >0.046562</td>\n",
       "                        <td id=\"T_e45b5a30_72c5_11ec_b710_0242b2414222row5_col1\" class=\"data row5 col1\" >0.015003</td>\n",
       "                        <td id=\"T_e45b5a30_72c5_11ec_b710_0242b2414222row5_col2\" class=\"data row5 col2\" >0.002039</td>\n",
       "                        <td id=\"T_e45b5a30_72c5_11ec_b710_0242b2414222row5_col3\" class=\"data row5 col3\" >0.019783</td>\n",
       "                        <td id=\"T_e45b5a30_72c5_11ec_b710_0242b2414222row5_col4\" class=\"data row5 col4\" >0.014300</td>\n",
       "                        <td id=\"T_e45b5a30_72c5_11ec_b710_0242b2414222row5_col5\" class=\"data row5 col5\" >1.000000</td>\n",
       "            </tr>\n",
       "    </tbody></table>"
      ],
      "text/plain": [
       "<pandas.io.formats.style.Styler at 0x7f523c430eb8>"
      ]
     },
     "execution_count": 16,
     "metadata": {},
     "output_type": "execute_result"
    }
   ],
   "source": [
    "df.corr().style.background_gradient()"
   ]
  },
  {
   "cell_type": "markdown",
   "metadata": {},
   "source": [
    "### a. Différents sites"
   ]
  },
  {
   "cell_type": "code",
   "execution_count": 17,
   "metadata": {},
   "outputs": [
    {
     "data": {
      "text/plain": [
       "count   263.0\n",
       "mean     10.0\n",
       "std      12.8\n",
       "min       0.0\n",
       "25%       3.0\n",
       "50%       6.0\n",
       "75%      12.5\n",
       "max     106.0\n",
       "Name: Date heure début, dtype: float64"
      ]
     },
     "execution_count": 17,
     "metadata": {},
     "output_type": "execute_result"
    }
   ],
   "source": [
    "df_sites = df.groupby('Code Site').count()['Date heure début']\n",
    "df_sites.describe()"
   ]
  },
  {
   "cell_type": "code",
   "execution_count": 18,
   "metadata": {},
   "outputs": [
    {
     "data": {
      "text/plain": [
       "<AxesSubplot:ylabel='Frequency'>"
      ]
     },
     "execution_count": 18,
     "metadata": {},
     "output_type": "execute_result"
    },
    {
     "data": {
      "image/png": "[encoded data removed]",
      "text/plain": [
       "<Figure size 432x288 with 1 Axes>"
      ]
     },
     "metadata": {},
     "output_type": "display_data"
    }
   ],
   "source": [
    "df_sites.plot.hist(bins = 400)"
   ]
  },
  {
   "cell_type": "markdown",
   "metadata": {},
   "source": [
    "### b. Getting week days"
   ]
  },
  {
   "cell_type": "code",
   "execution_count": 19,
   "metadata": {},
   "outputs": [],
   "source": [
    "a = df['Date heure début']"
   ]
  },
  {
   "cell_type": "code",
   "execution_count": 20,
   "metadata": {
    "scrolled": true
   },
   "outputs": [],
   "source": [
    "df['Jour'] = df['Date heure début'].apply(lambda x: x.weekday())"
   ]
  },
  {
   "cell_type": "markdown",
   "metadata": {},
   "source": [
    "### c. Add a category for time during the day"
   ]
  },
  {
   "cell_type": "raw",
   "metadata": {},
   "source": [
    "TODO"
   ]
  },
  {
   "cell_type": "markdown",
   "metadata": {},
   "source": [
    "### Statistics on categorical attributes"
   ]
  },
  {
   "cell_type": "code",
   "execution_count": 21,
   "metadata": {
    "scrolled": true
   },
   "outputs": [
    {
     "data": {
      "text/html": [
       "<div>\n",
       "<style scoped>\n",
       "    .dataframe tbody tr th:only-of-type {\n",
       "        vertical-align: middle;\n",
       "    }\n",
       "\n",
       "    .dataframe tbody tr th {\n",
       "        vertical-align: top;\n",
       "    }\n",
       "\n",
       "    .dataframe thead th {\n",
       "        text-align: right;\n",
       "    }\n",
       "</style>\n",
       "<table border=\"1\" class=\"dataframe\">\n",
       "  <thead>\n",
       "    <tr style=\"text-align: right;\">\n",
       "      <th></th>\n",
       "      <th>Code Site</th>\n",
       "      <th>Code postal</th>\n",
       "      <th>Type d'appareil</th>\n",
       "      <th>Constructeur appareil</th>\n",
       "      <th>Version système exploitation</th>\n",
       "      <th>Version navigateur</th>\n",
       "      <th>Langue utilisateur</th>\n",
       "    </tr>\n",
       "  </thead>\n",
       "  <tbody>\n",
       "    <tr>\n",
       "      <th>count</th>\n",
       "      <td>2639</td>\n",
       "      <td>2639</td>\n",
       "      <td>2639</td>\n",
       "      <td>2639</td>\n",
       "      <td>2639</td>\n",
       "      <td>2639</td>\n",
       "      <td>2639</td>\n",
       "    </tr>\n",
       "    <tr>\n",
       "      <th>unique</th>\n",
       "      <td>241</td>\n",
       "      <td>20</td>\n",
       "      <td>4</td>\n",
       "      <td>10</td>\n",
       "      <td>128</td>\n",
       "      <td>89</td>\n",
       "      <td>16</td>\n",
       "    </tr>\n",
       "    <tr>\n",
       "      <th>top</th>\n",
       "      <td>PW0045</td>\n",
       "      <td>75004</td>\n",
       "      <td>Mobile</td>\n",
       "      <td>autre</td>\n",
       "      <td>inconnu</td>\n",
       "      <td>Safari unknown</td>\n",
       "      <td>Français</td>\n",
       "    </tr>\n",
       "    <tr>\n",
       "      <th>freq</th>\n",
       "      <td>106</td>\n",
       "      <td>330</td>\n",
       "      <td>2077</td>\n",
       "      <td>1406</td>\n",
       "      <td>907</td>\n",
       "      <td>702</td>\n",
       "      <td>1979</td>\n",
       "    </tr>\n",
       "  </tbody>\n",
       "</table>\n",
       "</div>"
      ],
      "text/plain": [
       "       Code Site Code postal Type d'appareil Constructeur appareil  \\\n",
       "count       2639        2639            2639                  2639   \n",
       "unique       241          20               4                    10   \n",
       "top       PW0045       75004          Mobile                 autre   \n",
       "freq         106         330            2077                  1406   \n",
       "\n",
       "       Version système exploitation Version navigateur Langue utilisateur  \n",
       "count                          2639               2639               2639  \n",
       "unique                          128                 89                 16  \n",
       "top                         inconnu     Safari unknown           Français  \n",
       "freq                            907                702               1979  "
      ]
     },
     "execution_count": 21,
     "metadata": {},
     "output_type": "execute_result"
    }
   ],
   "source": [
    "df.select_dtypes('category').describe()"
   ]
  },
  {
   "cell_type": "code",
   "execution_count": 44,
   "metadata": {},
   "outputs": [
    {
     "data": {
      "text/plain": [
       "['Ordinateur', 'Mobile', 'Tablette', 'Computer']\n",
       "Categories (4, object): ['Ordinateur', 'Mobile', 'Tablette', 'Computer']"
      ]
     },
     "execution_count": 44,
     "metadata": {},
     "output_type": "execute_result"
    }
   ],
   "source": [
    "df[\"Type d'appareil\"].unique()\n",
    "df[\"Type d'appareil\"].groupby(\"Type d'appareil\")"
   ]
  },
  {
   "cell_type": "code",
   "execution_count": 49,
   "metadata": {
    "scrolled": true
   },
   "outputs": [
    {
     "data": {
      "text/plain": [
       "Type d'appareil\n",
       "Mobile        1275193\n",
       "Ordinateur     302505\n",
       "Tablette        33311\n",
       "Computer         1420\n",
       "Tablet            372\n",
       "Name: Code Site, dtype: int64"
      ]
     },
     "execution_count": 49,
     "metadata": {},
     "output_type": "execute_result"
    }
   ],
   "source": [
    "df.groupby(\"Type d'appareil\").count()['Code Site']"
   ]
  },
  {
   "cell_type": "code",
   "execution_count": 58,
   "metadata": {},
   "outputs": [
    {
     "data": {
      "text/plain": [
       "0              Mobile\n",
       "1              Mobile\n",
       "2              Mobile\n",
       "3              Mobile\n",
       "4              Mobile\n",
       "              ...    \n",
       "1627733    Ordinateur\n",
       "1627734        Mobile\n",
       "1627735        Mobile\n",
       "1627736        Mobile\n",
       "1627737        Mobile\n",
       "Name: Type d'appareil, Length: 1627738, dtype: object"
      ]
     },
     "execution_count": 58,
     "metadata": {},
     "output_type": "execute_result"
    }
   ],
   "source": [
    "def f(category):\n",
    "    if category == \"Computer\":\n",
    "        return \"Ordinateur\"\n",
    "    elif category == \"Tablet\":\n",
    "        return \"Tablette\"\n",
    "    else:\n",
    "        return category\n",
    "\n",
    "df[\"Type d'appareil\"].apply(f)"
   ]
  },
  {
   "cell_type": "markdown",
   "metadata": {},
   "source": [
    "### AFC - Code Postal / Marque du constructeur"
   ]
  },
  {
   "cell_type": "markdown",
   "metadata": {},
   "source": [
    "Describe the two categorical attributes"
   ]
  },
  {
   "cell_type": "code",
   "execution_count": 22,
   "metadata": {},
   "outputs": [],
   "source": [
    "df_1 = df[['Code postal', \"Constructeur appareil\"]]"
   ]
  },
  {
   "cell_type": "code",
   "execution_count": 23,
   "metadata": {
    "scrolled": true
   },
   "outputs": [
    {
     "data": {
      "text/html": [
       "<div>\n",
       "<style scoped>\n",
       "    .dataframe tbody tr th:only-of-type {\n",
       "        vertical-align: middle;\n",
       "    }\n",
       "\n",
       "    .dataframe tbody tr th {\n",
       "        vertical-align: top;\n",
       "    }\n",
       "\n",
       "    .dataframe thead th {\n",
       "        text-align: right;\n",
       "    }\n",
       "</style>\n",
       "<table border=\"1\" class=\"dataframe\">\n",
       "  <thead>\n",
       "    <tr style=\"text-align: right;\">\n",
       "      <th></th>\n",
       "      <th>Code postal</th>\n",
       "      <th>Constructeur appareil</th>\n",
       "    </tr>\n",
       "  </thead>\n",
       "  <tbody>\n",
       "    <tr>\n",
       "      <th>count</th>\n",
       "      <td>2639</td>\n",
       "      <td>2639</td>\n",
       "    </tr>\n",
       "    <tr>\n",
       "      <th>unique</th>\n",
       "      <td>20</td>\n",
       "      <td>10</td>\n",
       "    </tr>\n",
       "    <tr>\n",
       "      <th>top</th>\n",
       "      <td>75004</td>\n",
       "      <td>autre</td>\n",
       "    </tr>\n",
       "    <tr>\n",
       "      <th>freq</th>\n",
       "      <td>330</td>\n",
       "      <td>1406</td>\n",
       "    </tr>\n",
       "  </tbody>\n",
       "</table>\n",
       "</div>"
      ],
      "text/plain": [
       "       Code postal Constructeur appareil\n",
       "count         2639                  2639\n",
       "unique          20                    10\n",
       "top          75004                 autre\n",
       "freq           330                  1406"
      ]
     },
     "execution_count": 23,
     "metadata": {},
     "output_type": "execute_result"
    }
   ],
   "source": [
    "df_1.describe()"
   ]
  },
  {
   "cell_type": "code",
   "execution_count": 24,
   "metadata": {},
   "outputs": [
    {
     "data": {
      "text/plain": [
       "['Apple', 'autre', 'Samsung', 'LG', 'Nokia', 'HUAWEI', 'other', 'Asus', 'HTC', 'RIM']\n",
       "Categories (10, object): ['Apple', 'autre', 'Samsung', 'LG', ..., 'other', 'Asus', 'HTC', 'RIM']"
      ]
     },
     "execution_count": 24,
     "metadata": {},
     "output_type": "execute_result"
    }
   ],
   "source": [
    "df_1[\"Constructeur appareil\"].unique()"
   ]
  },
  {
   "cell_type": "code",
   "execution_count": 25,
   "metadata": {},
   "outputs": [
    {
     "data": {
      "text/plain": [
       "['75004', '75010', '75001', '75015', '75013', ..., '75012', '75009', '75003', '75002', '75006']\n",
       "Length: 20\n",
       "Categories (20, object): ['75004', '75010', '75001', '75015', ..., '75009', '75003', '75002', '75006']"
      ]
     },
     "execution_count": 25,
     "metadata": {},
     "output_type": "execute_result"
    }
   ],
   "source": [
    "df_1['Code postal'].unique()"
   ]
  },
  {
   "cell_type": "code",
   "execution_count": 26,
   "metadata": {
    "scrolled": true
   },
   "outputs": [
    {
     "data": {
      "text/html": [
       "<div>\n",
       "<style scoped>\n",
       "    .dataframe tbody tr th:only-of-type {\n",
       "        vertical-align: middle;\n",
       "    }\n",
       "\n",
       "    .dataframe tbody tr th {\n",
       "        vertical-align: top;\n",
       "    }\n",
       "\n",
       "    .dataframe thead th {\n",
       "        text-align: right;\n",
       "    }\n",
       "</style>\n",
       "<table border=\"1\" class=\"dataframe\">\n",
       "  <thead>\n",
       "    <tr style=\"text-align: right;\">\n",
       "      <th>Constructeur appareil</th>\n",
       "      <th>Apple</th>\n",
       "      <th>Asus</th>\n",
       "      <th>HTC</th>\n",
       "      <th>HUAWEI</th>\n",
       "      <th>LG</th>\n",
       "      <th>Nokia</th>\n",
       "      <th>RIM</th>\n",
       "      <th>Samsung</th>\n",
       "      <th>autre</th>\n",
       "      <th>other</th>\n",
       "    </tr>\n",
       "    <tr>\n",
       "      <th>Code postal</th>\n",
       "      <th></th>\n",
       "      <th></th>\n",
       "      <th></th>\n",
       "      <th></th>\n",
       "      <th></th>\n",
       "      <th></th>\n",
       "      <th></th>\n",
       "      <th></th>\n",
       "      <th></th>\n",
       "      <th></th>\n",
       "    </tr>\n",
       "  </thead>\n",
       "  <tbody>\n",
       "    <tr>\n",
       "      <th>75001</th>\n",
       "      <td>77</td>\n",
       "      <td>2</td>\n",
       "      <td>0</td>\n",
       "      <td>5</td>\n",
       "      <td>1</td>\n",
       "      <td>1</td>\n",
       "      <td>0</td>\n",
       "      <td>15</td>\n",
       "      <td>92</td>\n",
       "      <td>0</td>\n",
       "    </tr>\n",
       "    <tr>\n",
       "      <th>75002</th>\n",
       "      <td>5</td>\n",
       "      <td>2</td>\n",
       "      <td>0</td>\n",
       "      <td>0</td>\n",
       "      <td>0</td>\n",
       "      <td>0</td>\n",
       "      <td>0</td>\n",
       "      <td>1</td>\n",
       "      <td>14</td>\n",
       "      <td>2</td>\n",
       "    </tr>\n",
       "    <tr>\n",
       "      <th>75003</th>\n",
       "      <td>19</td>\n",
       "      <td>0</td>\n",
       "      <td>0</td>\n",
       "      <td>4</td>\n",
       "      <td>2</td>\n",
       "      <td>1</td>\n",
       "      <td>0</td>\n",
       "      <td>4</td>\n",
       "      <td>23</td>\n",
       "      <td>0</td>\n",
       "    </tr>\n",
       "    <tr>\n",
       "      <th>75004</th>\n",
       "      <td>149</td>\n",
       "      <td>2</td>\n",
       "      <td>0</td>\n",
       "      <td>4</td>\n",
       "      <td>0</td>\n",
       "      <td>0</td>\n",
       "      <td>0</td>\n",
       "      <td>26</td>\n",
       "      <td>149</td>\n",
       "      <td>0</td>\n",
       "    </tr>\n",
       "    <tr>\n",
       "      <th>75005</th>\n",
       "      <td>22</td>\n",
       "      <td>0</td>\n",
       "      <td>0</td>\n",
       "      <td>1</td>\n",
       "      <td>0</td>\n",
       "      <td>1</td>\n",
       "      <td>0</td>\n",
       "      <td>5</td>\n",
       "      <td>39</td>\n",
       "      <td>0</td>\n",
       "    </tr>\n",
       "    <tr>\n",
       "      <th>75006</th>\n",
       "      <td>5</td>\n",
       "      <td>0</td>\n",
       "      <td>0</td>\n",
       "      <td>0</td>\n",
       "      <td>0</td>\n",
       "      <td>0</td>\n",
       "      <td>0</td>\n",
       "      <td>0</td>\n",
       "      <td>15</td>\n",
       "      <td>0</td>\n",
       "    </tr>\n",
       "    <tr>\n",
       "      <th>75007</th>\n",
       "      <td>34</td>\n",
       "      <td>0</td>\n",
       "      <td>0</td>\n",
       "      <td>2</td>\n",
       "      <td>0</td>\n",
       "      <td>0</td>\n",
       "      <td>0</td>\n",
       "      <td>14</td>\n",
       "      <td>45</td>\n",
       "      <td>0</td>\n",
       "    </tr>\n",
       "    <tr>\n",
       "      <th>75008</th>\n",
       "      <td>34</td>\n",
       "      <td>0</td>\n",
       "      <td>0</td>\n",
       "      <td>3</td>\n",
       "      <td>1</td>\n",
       "      <td>3</td>\n",
       "      <td>0</td>\n",
       "      <td>6</td>\n",
       "      <td>40</td>\n",
       "      <td>0</td>\n",
       "    </tr>\n",
       "    <tr>\n",
       "      <th>75009</th>\n",
       "      <td>22</td>\n",
       "      <td>0</td>\n",
       "      <td>0</td>\n",
       "      <td>0</td>\n",
       "      <td>0</td>\n",
       "      <td>0</td>\n",
       "      <td>0</td>\n",
       "      <td>8</td>\n",
       "      <td>31</td>\n",
       "      <td>0</td>\n",
       "    </tr>\n",
       "    <tr>\n",
       "      <th>75010</th>\n",
       "      <td>55</td>\n",
       "      <td>0</td>\n",
       "      <td>0</td>\n",
       "      <td>4</td>\n",
       "      <td>0</td>\n",
       "      <td>0</td>\n",
       "      <td>0</td>\n",
       "      <td>14</td>\n",
       "      <td>97</td>\n",
       "      <td>2</td>\n",
       "    </tr>\n",
       "    <tr>\n",
       "      <th>75011</th>\n",
       "      <td>45</td>\n",
       "      <td>4</td>\n",
       "      <td>0</td>\n",
       "      <td>4</td>\n",
       "      <td>0</td>\n",
       "      <td>1</td>\n",
       "      <td>0</td>\n",
       "      <td>7</td>\n",
       "      <td>85</td>\n",
       "      <td>0</td>\n",
       "    </tr>\n",
       "    <tr>\n",
       "      <th>75012</th>\n",
       "      <td>36</td>\n",
       "      <td>0</td>\n",
       "      <td>1</td>\n",
       "      <td>3</td>\n",
       "      <td>0</td>\n",
       "      <td>0</td>\n",
       "      <td>0</td>\n",
       "      <td>10</td>\n",
       "      <td>53</td>\n",
       "      <td>0</td>\n",
       "    </tr>\n",
       "    <tr>\n",
       "      <th>75013</th>\n",
       "      <td>51</td>\n",
       "      <td>1</td>\n",
       "      <td>0</td>\n",
       "      <td>2</td>\n",
       "      <td>1</td>\n",
       "      <td>2</td>\n",
       "      <td>0</td>\n",
       "      <td>12</td>\n",
       "      <td>114</td>\n",
       "      <td>0</td>\n",
       "    </tr>\n",
       "    <tr>\n",
       "      <th>75014</th>\n",
       "      <td>60</td>\n",
       "      <td>0</td>\n",
       "      <td>0</td>\n",
       "      <td>3</td>\n",
       "      <td>1</td>\n",
       "      <td>0</td>\n",
       "      <td>0</td>\n",
       "      <td>5</td>\n",
       "      <td>113</td>\n",
       "      <td>1</td>\n",
       "    </tr>\n",
       "    <tr>\n",
       "      <th>75015</th>\n",
       "      <td>48</td>\n",
       "      <td>0</td>\n",
       "      <td>0</td>\n",
       "      <td>3</td>\n",
       "      <td>0</td>\n",
       "      <td>3</td>\n",
       "      <td>0</td>\n",
       "      <td>10</td>\n",
       "      <td>61</td>\n",
       "      <td>1</td>\n",
       "    </tr>\n",
       "    <tr>\n",
       "      <th>75016</th>\n",
       "      <td>68</td>\n",
       "      <td>0</td>\n",
       "      <td>0</td>\n",
       "      <td>0</td>\n",
       "      <td>2</td>\n",
       "      <td>1</td>\n",
       "      <td>0</td>\n",
       "      <td>13</td>\n",
       "      <td>56</td>\n",
       "      <td>0</td>\n",
       "    </tr>\n",
       "    <tr>\n",
       "      <th>75017</th>\n",
       "      <td>16</td>\n",
       "      <td>1</td>\n",
       "      <td>0</td>\n",
       "      <td>0</td>\n",
       "      <td>0</td>\n",
       "      <td>0</td>\n",
       "      <td>0</td>\n",
       "      <td>6</td>\n",
       "      <td>53</td>\n",
       "      <td>0</td>\n",
       "    </tr>\n",
       "    <tr>\n",
       "      <th>75018</th>\n",
       "      <td>67</td>\n",
       "      <td>0</td>\n",
       "      <td>0</td>\n",
       "      <td>10</td>\n",
       "      <td>1</td>\n",
       "      <td>0</td>\n",
       "      <td>0</td>\n",
       "      <td>14</td>\n",
       "      <td>96</td>\n",
       "      <td>0</td>\n",
       "    </tr>\n",
       "    <tr>\n",
       "      <th>75019</th>\n",
       "      <td>67</td>\n",
       "      <td>0</td>\n",
       "      <td>0</td>\n",
       "      <td>7</td>\n",
       "      <td>0</td>\n",
       "      <td>2</td>\n",
       "      <td>0</td>\n",
       "      <td>10</td>\n",
       "      <td>72</td>\n",
       "      <td>1</td>\n",
       "    </tr>\n",
       "    <tr>\n",
       "      <th>75020</th>\n",
       "      <td>50</td>\n",
       "      <td>0</td>\n",
       "      <td>1</td>\n",
       "      <td>3</td>\n",
       "      <td>0</td>\n",
       "      <td>0</td>\n",
       "      <td>1</td>\n",
       "      <td>18</td>\n",
       "      <td>158</td>\n",
       "      <td>1</td>\n",
       "    </tr>\n",
       "  </tbody>\n",
       "</table>\n",
       "</div>"
      ],
      "text/plain": [
       "Constructeur appareil  Apple  Asus  HTC  HUAWEI  LG  Nokia  RIM  Samsung  \\\n",
       "Code postal                                                                \n",
       "75001                     77     2    0       5   1      1    0       15   \n",
       "75002                      5     2    0       0   0      0    0        1   \n",
       "75003                     19     0    0       4   2      1    0        4   \n",
       "75004                    149     2    0       4   0      0    0       26   \n",
       "75005                     22     0    0       1   0      1    0        5   \n",
       "75006                      5     0    0       0   0      0    0        0   \n",
       "75007                     34     0    0       2   0      0    0       14   \n",
       "75008                     34     0    0       3   1      3    0        6   \n",
       "75009                     22     0    0       0   0      0    0        8   \n",
       "75010                     55     0    0       4   0      0    0       14   \n",
       "75011                     45     4    0       4   0      1    0        7   \n",
       "75012                     36     0    1       3   0      0    0       10   \n",
       "75013                     51     1    0       2   1      2    0       12   \n",
       "75014                     60     0    0       3   1      0    0        5   \n",
       "75015                     48     0    0       3   0      3    0       10   \n",
       "75016                     68     0    0       0   2      1    0       13   \n",
       "75017                     16     1    0       0   0      0    0        6   \n",
       "75018                     67     0    0      10   1      0    0       14   \n",
       "75019                     67     0    0       7   0      2    0       10   \n",
       "75020                     50     0    1       3   0      0    1       18   \n",
       "\n",
       "Constructeur appareil  autre  other  \n",
       "Code postal                          \n",
       "75001                     92      0  \n",
       "75002                     14      2  \n",
       "75003                     23      0  \n",
       "75004                    149      0  \n",
       "75005                     39      0  \n",
       "75006                     15      0  \n",
       "75007                     45      0  \n",
       "75008                     40      0  \n",
       "75009                     31      0  \n",
       "75010                     97      2  \n",
       "75011                     85      0  \n",
       "75012                     53      0  \n",
       "75013                    114      0  \n",
       "75014                    113      1  \n",
       "75015                     61      1  \n",
       "75016                     56      0  \n",
       "75017                     53      0  \n",
       "75018                     96      0  \n",
       "75019                     72      1  \n",
       "75020                    158      1  "
      ]
     },
     "execution_count": 26,
     "metadata": {},
     "output_type": "execute_result"
    }
   ],
   "source": [
    "tableau = pd.crosstab(df['Code postal'], df[\"Constructeur appareil\"])\n",
    "tableau"
   ]
  },
  {
   "cell_type": "markdown",
   "metadata": {},
   "source": [
    "### AFC"
   ]
  },
  {
   "cell_type": "code",
   "execution_count": 27,
   "metadata": {},
   "outputs": [],
   "source": [
    "X = tableau.to_numpy()"
   ]
  },
  {
   "cell_type": "code",
   "execution_count": 28,
   "metadata": {},
   "outputs": [],
   "source": [
    "my_ca = CA(row_labels=tableau.index.values, col_labels=tableau.columns.values)"
   ]
  },
  {
   "cell_type": "code",
   "execution_count": 29,
   "metadata": {},
   "outputs": [
    {
     "data": {
      "text/plain": [
       "CA(col_labels=['Apple', 'Asus', 'HTC', 'HUAWEI', 'LG', 'Nokia', 'RIM', 'Samsung', 'autre', 'other']\n",
       "Categories (12, object): ['ARCHOS', 'Apple', 'Asus', 'HTC', ..., 'Samsung', 'Sony', 'autre', 'other'],\n",
       "   row_labels=['75001', '75002', '75003', '75004', '75005', ..., '75016', '75017', '75018', '75019', '75020']\n",
       "Length: 20\n",
       "Categories (24, object): ['75001', '75002', '75003', '75004', ..., '92100', 'MUSEE DE LA LIBERATION', 'MUSEE CARNAVALET', 'MAISON VICTOR HUGO'])"
      ]
     },
     "execution_count": 29,
     "metadata": {},
     "output_type": "execute_result"
    }
   ],
   "source": [
    "my_ca"
   ]
  },
  {
   "cell_type": "code",
   "execution_count": 30,
   "metadata": {},
   "outputs": [
    {
     "data": {
      "text/plain": [
       "CA(col_labels=['Apple', 'Asus', 'HTC', 'HUAWEI', 'LG', 'Nokia', 'RIM', 'Samsung', 'autre', 'other']\n",
       "Categories (12, object): ['ARCHOS', 'Apple', 'Asus', 'HTC', ..., 'Samsung', 'Sony', 'autre', 'other'],\n",
       "   row_labels=['75001', '75002', '75003', '75004', '75005', ..., '75016', '75017', '75018', '75019', '75020']\n",
       "Length: 20\n",
       "Categories (24, object): ['75001', '75002', '75003', '75004', ..., '92100', 'MUSEE DE LA LIBERATION', 'MUSEE CARNAVALET', 'MAISON VICTOR HUGO'])"
      ]
     },
     "execution_count": 30,
     "metadata": {},
     "output_type": "execute_result"
    }
   ],
   "source": [
    "my_ca.fit(X)"
   ]
  },
  {
   "cell_type": "code",
   "execution_count": 31,
   "metadata": {},
   "outputs": [
    {
     "data": {
      "text/plain": [
       "array([[4.45846756e-02, 2.93066273e-02, 1.72030087e-02, 1.09301337e-02,\n",
       "        8.88667112e-03, 7.27015293e-03, 6.76742385e-03, 4.13745559e-03,\n",
       "        1.77985187e-03],\n",
       "       [3.40689525e+01, 2.23943783e+01, 1.31455142e+01, 8.35215693e+00,\n",
       "        6.79066455e+00, 5.55541768e+00, 5.17126207e+00, 3.16159703e+00,\n",
       "        1.36005674e+00],\n",
       "       [3.40689525e+01, 5.64633308e+01, 6.96088450e+01, 7.79610019e+01,\n",
       "        8.47516665e+01, 9.03070842e+01, 9.54783462e+01, 9.86399433e+01,\n",
       "        1.00000000e+02]])"
      ]
     },
     "execution_count": 31,
     "metadata": {},
     "output_type": "execute_result"
    }
   ],
   "source": [
    "my_ca.eig_"
   ]
  },
  {
   "cell_type": "code",
   "execution_count": 32,
   "metadata": {},
   "outputs": [
    {
     "data": {
      "image/png": "[encoded data removed]",
      "text/plain": [
       "<Figure size 432x288 with 1 Axes>"
      ]
     },
     "metadata": {},
     "output_type": "display_data"
    }
   ],
   "source": [
    "my_ca.plot_eigenvalues()"
   ]
  },
  {
   "cell_type": "code",
   "execution_count": 33,
   "metadata": {},
   "outputs": [
    {
     "data": {
      "image/png": "[encoded data removed]",
      "text/plain": [
       "<Figure size 432x288 with 1 Axes>"
      ]
     },
     "metadata": {},
     "output_type": "display_data"
    }
   ],
   "source": [
    "my_ca.plot_eigenvalues(type=\"percentage\")"
   ]
  },
  {
   "cell_type": "code",
   "execution_count": 34,
   "metadata": {},
   "outputs": [
    {
     "data": {
      "image/png": "[encoded data removed]",
      "text/plain": [
       "<Figure size 432x288 with 1 Axes>"
      ]
     },
     "metadata": {},
     "output_type": "display_data"
    }
   ],
   "source": [
    "my_ca.plot_eigenvalues(type=\"cumulative\")"
   ]
  },
  {
   "cell_type": "code",
   "execution_count": 35,
   "metadata": {},
   "outputs": [],
   "source": [
    "df_rows = my_ca.row_topandas()"
   ]
  },
  {
   "cell_type": "raw",
   "metadata": {},
   "source": [
    "df_rows.style.background_gradient()"
   ]
  },
  {
   "cell_type": "code",
   "execution_count": 36,
   "metadata": {
    "scrolled": true
   },
   "outputs": [
    {
     "name": "stdout",
     "output_type": "stream",
     "text": [
      "       row_coord_dim1  row_coord_dim2  row_coord_dim3  row_coord_dim4  \\\n",
      "75001            -0.1             0.1            -0.0             0.1   \n",
      "75002             1.6             1.0            -0.0            -0.2   \n",
      "75003            -0.3             0.2             0.5            -0.0   \n",
      "75004            -0.1             0.1            -0.2             0.0   \n",
      "75005            -0.0            -0.1             0.0             0.0   \n",
      "75006             0.2            -0.3             0.1             0.2   \n",
      "75007            -0.1            -0.0            -0.2            -0.1   \n",
      "75008            -0.2             0.1             0.3             0.0   \n",
      "75009            -0.1            -0.1            -0.2            -0.0   \n",
      "75010             0.1            -0.0            -0.0            -0.1   \n",
      "75011             0.2             0.1             0.0             0.2   \n",
      "75012            -0.1            -0.1            -0.1            -0.1   \n",
      "75013             0.1            -0.1             0.1             0.1   \n",
      "75014             0.1            -0.1             0.1             0.0   \n",
      "75015            -0.1             0.1             0.1            -0.1   \n",
      "75016            -0.3             0.1            -0.1             0.0   \n",
      "75017             0.3            -0.2            -0.0             0.2   \n",
      "75018            -0.1            -0.0             0.1            -0.1   \n",
      "75019            -0.1             0.1             0.0            -0.1   \n",
      "75020             0.2            -0.3             0.0            -0.1   \n",
      "\n",
      "       row_coord_dim5  row_coord_dim6  row_coord_dim7  row_coord_dim8  \\\n",
      "75001             0.1             0.0            -0.0             0.0   \n",
      "75002            -0.0             0.2            -0.1             0.0   \n",
      "75003             0.2             0.3            -0.1            -0.0   \n",
      "75004             0.0            -0.0             0.0             0.0   \n",
      "75005            -0.1            -0.1            -0.0            -0.0   \n",
      "75006            -0.1            -0.0             0.2             0.1   \n",
      "75007             0.0             0.0            -0.1            -0.2   \n",
      "75008            -0.2            -0.1            -0.1             0.0   \n",
      "75009            -0.1             0.1            -0.1            -0.1   \n",
      "75010            -0.0            -0.0             0.1            -0.1   \n",
      "75011             0.1            -0.1            -0.1             0.0   \n",
      "75012             0.1            -0.0            -0.1             0.2   \n",
      "75013            -0.1             0.0            -0.0            -0.0   \n",
      "75014            -0.0             0.0             0.2             0.0   \n",
      "75015            -0.2            -0.1            -0.0            -0.0   \n",
      "75016            -0.1             0.2             0.0             0.1   \n",
      "75017            -0.0             0.0            -0.0            -0.1   \n",
      "75018             0.2            -0.0             0.0            -0.1   \n",
      "75019             0.0            -0.1             0.1             0.0   \n",
      "75020            -0.0             0.0            -0.1             0.0   \n",
      "\n",
      "       row_coord_dim9  row_contrib_dim1  ...  row_contrib_dim9  row_cos2_dim1  \\\n",
      "75001             0.0               0.7  ...               1.4            0.2   \n",
      "75002            -0.0              49.2  ...               0.1            0.7   \n",
      "75003             0.0               5.2  ...               0.0            0.2   \n",
      "75004             0.0               2.9  ...               4.2            0.2   \n",
      "75005            -0.0               0.0  ...               0.8            0.0   \n",
      "75006            -0.1               0.8  ...               1.5            0.2   \n",
      "75007            -0.0               1.0  ...               0.2            0.1   \n",
      "75008             0.0               4.2  ...               0.0            0.3   \n",
      "75009            -0.0               0.2  ...               0.6            0.0   \n",
      "75010            -0.0               1.6  ...               2.9            0.3   \n",
      "75011             0.0               5.6  ...               0.8            0.3   \n",
      "75012            -0.1               0.2  ...              36.4            0.0   \n",
      "75013            -0.0               0.9  ...               5.7            0.1   \n",
      "75014            -0.0               1.1  ...               3.4            0.1   \n",
      "75015            -0.0               0.5  ...               0.0            0.1   \n",
      "75016             0.0               8.0  ...               0.3            0.4   \n",
      "75017            -0.1               4.7  ...               4.9            0.5   \n",
      "75018             0.0               2.0  ...               0.2            0.2   \n",
      "75019             0.0               2.0  ...               2.0            0.2   \n",
      "75020             0.1               9.2  ...              34.5            0.3   \n",
      "\n",
      "       row_cos2_dim2  row_cos2_dim3  row_cos2_dim4  row_cos2_dim5  \\\n",
      "75001            0.4            0.0            0.2            0.1   \n",
      "75002            0.3            0.0            0.0            0.0   \n",
      "75003            0.1            0.5            0.0            0.1   \n",
      "75004            0.1            0.6            0.0            0.0   \n",
      "75005            0.2            0.1            0.0            0.5   \n",
      "75006            0.4            0.0            0.1            0.0   \n",
      "75007            0.0            0.3            0.1            0.0   \n",
      "75008            0.1            0.4            0.0            0.2   \n",
      "75009            0.1            0.5            0.0            0.1   \n",
      "75010            0.0            0.0            0.4            0.0   \n",
      "75011            0.1            0.0            0.4            0.1   \n",
      "75012            0.1            0.1            0.2            0.1   \n",
      "75013            0.2            0.2            0.3            0.1   \n",
      "75014            0.1            0.1            0.0            0.0   \n",
      "75015            0.2            0.1            0.1            0.4   \n",
      "75016            0.1            0.1            0.0            0.1   \n",
      "75017            0.3            0.0            0.2            0.0   \n",
      "75018            0.0            0.1            0.0            0.5   \n",
      "75019            0.3            0.0            0.1            0.0   \n",
      "75020            0.6            0.0            0.0            0.0   \n",
      "\n",
      "       row_cos2_dim6  row_cos2_dim7  row_cos2_dim8  row_cos2_dim9  \n",
      "75001            0.0            0.0            0.0            0.0  \n",
      "75002            0.0            0.0            0.0            0.0  \n",
      "75003            0.1            0.0            0.0            0.0  \n",
      "75004            0.0            0.0            0.0            0.0  \n",
      "75005            0.1            0.0            0.0            0.0  \n",
      "75006            0.0            0.3            0.0            0.0  \n",
      "75007            0.0            0.2            0.3            0.0  \n",
      "75008            0.0            0.0            0.0            0.0  \n",
      "75009            0.1            0.1            0.2            0.0  \n",
      "75010            0.0            0.1            0.1            0.0  \n",
      "75011            0.1            0.0            0.0            0.0  \n",
      "75012            0.0            0.2            0.2            0.1  \n",
      "75013            0.0            0.0            0.0            0.0  \n",
      "75014            0.0            0.6            0.0            0.0  \n",
      "75015            0.2            0.0            0.0            0.0  \n",
      "75016            0.3            0.0            0.0            0.0  \n",
      "75017            0.0            0.0            0.1            0.0  \n",
      "75018            0.0            0.0            0.1            0.0  \n",
      "75019            0.3            0.0            0.0            0.0  \n",
      "75020            0.0            0.0            0.0            0.0  \n",
      "\n",
      "[20 rows x 27 columns]\n"
     ]
    }
   ],
   "source": [
    "print(df_rows)"
   ]
  },
  {
   "cell_type": "raw",
   "metadata": {},
   "source": [
    "TODO: ajouter la richesse des départements\n",
    "TODO: ajouter variable descriptive selon la richesse du département/ prix des appartement ou autre, pour interpréter les axes"
   ]
  },
  {
   "cell_type": "code",
   "execution_count": 37,
   "metadata": {},
   "outputs": [
    {
     "name": "stdout",
     "output_type": "stream",
     "text": [
      "[[-6.39910439e-02  1.01650192e-01 -3.38857730e-02  7.30631960e-02\n",
      "   5.75820360e-02  4.77963138e-03 -2.86388623e-02  3.60083982e-03\n",
      "   1.84319829e-02]\n",
      " [ 1.55374681e+00  1.04855428e+00 -1.13071665e-02 -2.47642187e-01\n",
      "  -1.27902298e-02  1.55175866e-01 -5.58130643e-02  1.88280859e-02\n",
      "  -1.49063123e-02]\n",
      " [-3.38376509e-01  1.99256466e-01  5.13605263e-01 -3.96401191e-02\n",
      "   1.94705390e-01  2.66759823e-01 -6.23072261e-02 -2.99814951e-02\n",
      "   1.47137914e-03]\n",
      " [-1.01800928e-01  8.24682211e-02 -1.91012174e-01  4.49534023e-02\n",
      "   1.18539635e-02 -8.55905744e-03  3.49389888e-02  3.05849796e-02\n",
      "   2.45356442e-02]\n",
      " [-2.20367856e-02 -8.25887552e-02  4.44208677e-02  3.92816531e-02\n",
      "  -1.30220762e-01 -7.08863441e-02 -1.15127409e-02 -2.91734050e-02\n",
      "  -2.40128337e-02]\n",
      " [ 2.11940342e-01 -2.91963813e-01  7.19035555e-02  1.63640137e-01\n",
      "  -7.51359231e-02 -1.45110738e-02  2.41980254e-01  5.58753301e-02\n",
      "  -5.91403382e-02]\n",
      " [-1.12453361e-01 -4.19862765e-02 -1.67037112e-01 -8.80051132e-02\n",
      "   2.33590768e-02  2.13839371e-02 -1.26447833e-01 -1.64625223e-01\n",
      "  -9.38995321e-03]\n",
      " [-2.36977605e-01  1.43760352e-01  2.69849643e-01  2.51055198e-02\n",
      "  -1.79316334e-01 -5.57744858e-02 -9.40622034e-02  3.42601596e-02\n",
      "   4.78041129e-03]\n",
      " [-6.33753225e-02 -7.81001146e-02 -2.08029742e-01 -2.57317324e-02\n",
      "  -7.14583964e-02  6.94250476e-02 -7.55746917e-02 -1.13579252e-01\n",
      "  -2.23166315e-02]\n",
      " [ 1.06052781e-01 -2.11647390e-02 -2.65468919e-02 -1.39810666e-01\n",
      "  -6.57410416e-03 -5.68931692e-03  7.79308491e-02 -7.57197853e-02\n",
      "  -2.80777828e-02]\n",
      " [ 2.12753658e-01  8.81270844e-02  3.64757386e-02  2.49995409e-01\n",
      "   1.05089507e-01 -9.83891183e-02 -7.56179038e-02  1.81822542e-02\n",
      "   1.56958061e-02]\n",
      " [-5.03852570e-02 -1.34963374e-01 -8.22121054e-02 -1.43511590e-01\n",
      "   1.18266418e-01 -3.04585773e-02 -1.48602303e-01  1.74713819e-01\n",
      "  -1.28818677e-01]\n",
      " [ 7.43903154e-02 -1.04643170e-01  9.46348507e-02  1.10742954e-01\n",
      "  -8.25064950e-02  2.76917510e-02 -1.20889197e-02 -3.11238336e-02\n",
      "  -3.82905811e-02]\n",
      " [ 8.50647530e-02 -8.31214939e-02  5.96915362e-02  2.21602525e-02\n",
      "  -4.22592013e-03  4.01434840e-02  1.97819217e-01  4.06103500e-02\n",
      "  -2.96082168e-02]\n",
      " [-6.83858578e-02  1.12400427e-01  7.76933320e-02 -8.43593427e-02\n",
      "  -1.90089983e-01 -1.18713380e-01 -3.52946460e-02 -6.53854085e-03\n",
      "  -3.28167344e-03]\n",
      " [-2.59257907e-01  1.43692917e-01 -1.06161145e-01  2.33197264e-02\n",
      "  -9.46582895e-02  2.04914100e-01  7.97379960e-03  5.20512654e-02\n",
      "   1.01837839e-02]\n",
      " [ 2.70198236e-01 -2.02991410e-01 -2.19395081e-02  1.70239873e-01\n",
      "  -2.31113101e-02  3.91119174e-02 -4.50501548e-02 -9.45229349e-02\n",
      "  -5.49155527e-02]\n",
      " [-1.11234747e-01 -1.42135114e-02  7.02542939e-02 -5.20342605e-02\n",
      "   1.80576478e-01 -4.55071671e-02  4.66165340e-02 -6.02976840e-02\n",
      "   7.77336452e-03]\n",
      " [-1.20539828e-01  1.34540211e-01  4.73724400e-02 -1.02272168e-01\n",
      "   2.92841068e-03 -1.46273330e-01  5.45561793e-02  1.55200838e-02\n",
      "   2.40723303e-02]\n",
      " [ 2.16276875e-01 -3.16352835e-01  3.75616329e-02 -8.88404399e-02\n",
      "  -1.25656389e-02  3.84179835e-02 -5.31971165e-02  4.75381589e-02\n",
      "   8.35466452e-02]]\n"
     ]
    }
   ],
   "source": [
    "# Coordonnées des points lignes\n",
    "print(my_ca.row_coord_)"
   ]
  },
  {
   "cell_type": "code",
   "execution_count": 38,
   "metadata": {},
   "outputs": [
    {
     "name": "stdout",
     "output_type": "stream",
     "text": [
      "[[ 0.7  2.6  0.5  3.6  2.7  0.   0.9  0.   1.4]\n",
      " [49.2 34.1  0.   5.1  0.   3.   0.4  0.1  0.1]\n",
      " [ 5.2  2.7 30.8  0.3  8.6 19.7  1.2  0.4  0. ]\n",
      " [ 2.9  2.9 26.5  2.3  0.2  0.1  2.3  2.8  4.2]\n",
      " [ 0.   0.6  0.3  0.4  4.9  1.8  0.1  0.5  0.8]\n",
      " [ 0.8  2.2  0.2  1.9  0.5  0.   6.6  0.6  1.5]\n",
      " [ 1.   0.2  5.8  2.6  0.2  0.2  8.5 23.6  0.2]\n",
      " [ 4.2  2.3 14.   0.2 11.9  1.4  4.3  0.9  0. ]\n",
      " [ 0.2  0.5  5.8  0.1  1.3  1.5  2.   7.2  0.6]\n",
      " [ 1.6  0.1  0.3 11.7  0.   0.   5.8  9.   2.9]\n",
      " [ 5.6  1.5  0.4 31.6  6.9  7.4  4.7  0.4  0.8]\n",
      " [ 0.2  2.4  1.5  7.4  6.1  0.5 12.7 28.8 36.4]\n",
      " [ 0.9  2.6  3.6  7.8  5.3  0.7  0.1  1.6  5.7]\n",
      " [ 1.1  1.6  1.4  0.3  0.   1.5 40.1  2.8  3.4]\n",
      " [ 0.5  2.1  1.7  3.1 19.4  9.3  0.9  0.   0. ]\n",
      " [ 8.   3.7  3.5  0.3  5.3 30.6  0.   3.5  0.3]\n",
      " [ 4.7  4.   0.1  7.6  0.2  0.6  0.9  6.2  4.9]\n",
      " [ 2.   0.   2.   1.8 26.1  2.   2.3  6.3  0.2]\n",
      " [ 2.   3.7  0.8  5.8  0.  17.7  2.6  0.4  2. ]\n",
      " [ 9.2 30.   0.7  6.3  0.2  1.8  3.7  4.8 34.5]]\n"
     ]
    }
   ],
   "source": [
    "# Contributions des points lignes\n",
    "print(my_ca.row_contrib_.round(1))"
   ]
  },
  {
   "cell_type": "raw",
   "metadata": {},
   "source": [
    "# TODO\n",
    "- supprimer la modalité \"Autre\"\n",
    "- afficher le tableau des fréquence + avec couleur pour voir les trucs important\n",
    "faire des tests"
   ]
  },
  {
   "cell_type": "code",
   "execution_count": 39,
   "metadata": {},
   "outputs": [
    {
     "data": {
      "image/png": "[encoded data removed]",
      "text/plain": [
       "<Figure size 720x576 with 1 Axes>"
      ]
     },
     "metadata": {},
     "output_type": "display_data"
    }
   ],
   "source": [
    "my_ca.mapping(1, 2, figsize=(10, 8))"
   ]
  },
  {
   "cell_type": "code",
   "execution_count": 40,
   "metadata": {},
   "outputs": [
    {
     "data": {
      "image/png": "[encoded data removed]",
      "text/plain": [
       "<Figure size 432x288 with 1 Axes>"
      ]
     },
     "metadata": {},
     "output_type": "display_data"
    }
   ],
   "source": [
    "# Mapping des points lignes\n",
    "my_ca.mapping_row(num_x_axis=1, num_y_axis=2)"
   ]
  },
  {
   "cell_type": "code",
   "execution_count": null,
   "metadata": {},
   "outputs": [],
   "source": []
  }
 ],
 "metadata": {
  "kernelspec": {
   "display_name": "Python 3",
   "language": "python",
   "name": "python3"
  },
  "language_info": {
   "codemirror_mode": {
    "name": "ipython",
    "version": 3
   },
   "file_extension": ".py",
   "mimetype": "text/x-python",
   "name": "python",
   "nbconvert_exporter": "python",
   "pygments_lexer": "ipython3",
   "version": "3.6.9"
  }
 },
 "nbformat": 4,
 "nbformat_minor": 2
}
